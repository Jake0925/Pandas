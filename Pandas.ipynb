{
  "nbformat": 4,
  "nbformat_minor": 0,
  "metadata": {
    "colab": {
      "name": "Pandas.ipynb",
      "provenance": [],
      "collapsed_sections": [],
      "authorship_tag": "ABX9TyP6Fyiw2K8gz1PCHII3Npee",
      "include_colab_link": true
    },
    "kernelspec": {
      "name": "python3",
      "display_name": "Python 3"
    }
  },
  "cells": [
    {
      "cell_type": "markdown",
      "metadata": {
        "id": "view-in-github",
        "colab_type": "text"
      },
      "source": [
        "<a href=\"https://colab.research.google.com/github/Jake0925/Pandas/blob/master/Pandas.ipynb\" target=\"_parent\"><img src=\"https://colab.research.google.com/assets/colab-badge.svg\" alt=\"Open In Colab\"/></a>"
      ]
    },
    {
      "cell_type": "markdown",
      "metadata": {
        "id": "nPX36rpXPb4m"
      },
      "source": [
        "# 1. Basic"
      ]
    },
    {
      "cell_type": "code",
      "metadata": {
        "id": "LhhGuPfH1Gze"
      },
      "source": [
        "import pandas as pd\r\n",
        "import numpy as np"
      ],
      "execution_count": null,
      "outputs": []
    },
    {
      "cell_type": "code",
      "metadata": {
        "colab": {
          "base_uri": "https://localhost:8080/",
          "height": 172
        },
        "id": "GU1qJSbEPnYc",
        "outputId": "8b346c22-95a2-461a-8e0f-f9cca0130608"
      },
      "source": [
        "exam_data = {'이름' : ['서준', '우현', '인아', '영철'],\r\n",
        "             '수학' : [90, 80, 70, 30],\r\n",
        "             '영어' : [98, 89, 95, 22],\r\n",
        "             '음악' : [85, 95, 100, 55],\r\n",
        "             '체육' : [100, 90, 90, 77]}\r\n",
        "\r\n",
        "df = pd.DataFrame(exam_data)\r\n",
        "df"
      ],
      "execution_count": null,
      "outputs": [
        {
          "output_type": "execute_result",
          "data": {
            "text/html": [
              "<div>\n",
              "<style scoped>\n",
              "    .dataframe tbody tr th:only-of-type {\n",
              "        vertical-align: middle;\n",
              "    }\n",
              "\n",
              "    .dataframe tbody tr th {\n",
              "        vertical-align: top;\n",
              "    }\n",
              "\n",
              "    .dataframe thead th {\n",
              "        text-align: right;\n",
              "    }\n",
              "</style>\n",
              "<table border=\"1\" class=\"dataframe\">\n",
              "  <thead>\n",
              "    <tr style=\"text-align: right;\">\n",
              "      <th></th>\n",
              "      <th>이름</th>\n",
              "      <th>수학</th>\n",
              "      <th>영어</th>\n",
              "      <th>음악</th>\n",
              "      <th>체육</th>\n",
              "    </tr>\n",
              "  </thead>\n",
              "  <tbody>\n",
              "    <tr>\n",
              "      <th>0</th>\n",
              "      <td>서준</td>\n",
              "      <td>90</td>\n",
              "      <td>98</td>\n",
              "      <td>85</td>\n",
              "      <td>100</td>\n",
              "    </tr>\n",
              "    <tr>\n",
              "      <th>1</th>\n",
              "      <td>우현</td>\n",
              "      <td>80</td>\n",
              "      <td>89</td>\n",
              "      <td>95</td>\n",
              "      <td>90</td>\n",
              "    </tr>\n",
              "    <tr>\n",
              "      <th>2</th>\n",
              "      <td>인아</td>\n",
              "      <td>70</td>\n",
              "      <td>95</td>\n",
              "      <td>100</td>\n",
              "      <td>90</td>\n",
              "    </tr>\n",
              "    <tr>\n",
              "      <th>3</th>\n",
              "      <td>영철</td>\n",
              "      <td>30</td>\n",
              "      <td>22</td>\n",
              "      <td>55</td>\n",
              "      <td>77</td>\n",
              "    </tr>\n",
              "  </tbody>\n",
              "</table>\n",
              "</div>"
            ],
            "text/plain": [
              "   이름  수학  영어   음악   체육\n",
              "0  서준  90  98   85  100\n",
              "1  우현  80  89   95   90\n",
              "2  인아  70  95  100   90\n",
              "3  영철  30  22   55   77"
            ]
          },
          "metadata": {
            "tags": []
          },
          "execution_count": 2
        }
      ]
    },
    {
      "cell_type": "markdown",
      "metadata": {
        "id": "SPuCWIEdPtHp"
      },
      "source": [
        "칼럼과 행 추가"
      ]
    },
    {
      "cell_type": "code",
      "metadata": {
        "colab": {
          "base_uri": "https://localhost:8080/"
        },
        "id": "wZ3ZXel_Py6g",
        "outputId": "4651056d-fae8-4960-eb93-8a3685979695"
      },
      "source": [
        "# 컬럼을 추가한다\r\n",
        "df['국어'] = 80\r\n",
        "print(df, \"\\n\")\r\n",
        "\r\n",
        "# 행을 추가한다\r\n",
        "df.loc[4] = 0\r\n",
        "print(df, \"\\n\")\r\n",
        "\r\n",
        "# 값을 지정해서 행을 추가한다\r\n",
        "df.loc[5] = ['동규', 90, 80, 60, 70, 50]\r\n",
        "print(df, \"\\n\")\r\n",
        "\r\n",
        "# 행추가 - 기존 행 복사\r\n",
        "df.loc['영철행 복사'] = df.loc[3]\r\n",
        "print(df, \"\\n\")"
      ],
      "execution_count": null,
      "outputs": [
        {
          "output_type": "stream",
          "text": [
            "   이름  수학  영어   음악   체육  국어\n",
            "0  서준  90  98   85  100  80\n",
            "1  우현  80  89   95   90  80\n",
            "2  인아  70  95  100   90  80\n",
            "3  영철  30  22   55   77  80 \n",
            "\n",
            "   이름  수학  영어   음악   체육  국어\n",
            "0  서준  90  98   85  100  80\n",
            "1  우현  80  89   95   90  80\n",
            "2  인아  70  95  100   90  80\n",
            "3  영철  30  22   55   77  80\n",
            "4   0   0   0    0    0   0 \n",
            "\n",
            "   이름  수학  영어   음악   체육  국어\n",
            "0  서준  90  98   85  100  80\n",
            "1  우현  80  89   95   90  80\n",
            "2  인아  70  95  100   90  80\n",
            "3  영철  30  22   55   77  80\n",
            "4   0   0   0    0    0   0\n",
            "5  동규  90  80   60   70  50 \n",
            "\n",
            "        이름  수학  영어   음악   체육  국어\n",
            "0       서준  90  98   85  100  80\n",
            "1       우현  80  89   95   90  80\n",
            "2       인아  70  95  100   90  80\n",
            "3       영철  30  22   55   77  80\n",
            "4        0   0   0    0    0   0\n",
            "5       동규  90  80   60   70  50\n",
            "영철행 복사  영철  30  22   55   77  80 \n",
            "\n"
          ],
          "name": "stdout"
        }
      ]
    },
    {
      "cell_type": "markdown",
      "metadata": {
        "id": "fy7FTwYLQsBe"
      },
      "source": [
        "인덱스 변경"
      ]
    },
    {
      "cell_type": "code",
      "metadata": {
        "colab": {
          "base_uri": "https://localhost:8080/"
        },
        "id": "O2fo4zz7QhKk",
        "outputId": "882d6667-f668-4d64-9812-370915cd2b6e"
      },
      "source": [
        "#이름 열을 인덱스로 지정\r\n",
        "df.set_index('이름', inplace=True)\r\n",
        "print(df, \"\\n\")"
      ],
      "execution_count": null,
      "outputs": [
        {
          "output_type": "stream",
          "text": [
            "    수학  영어   음악   체육  국어\n",
            "이름                      \n",
            "서준  90  98   85  100  80\n",
            "우현  80  89   95   90  80\n",
            "인아  70  95  100   90  80\n",
            "영철  30  22   55   77  80\n",
            "0    0   0    0    0   0\n",
            "동규  90  80   60   70  50\n",
            "영철  30  22   55   77  80 \n",
            "\n"
          ],
          "name": "stdout"
        }
      ]
    },
    {
      "cell_type": "markdown",
      "metadata": {
        "id": "Su5s_FYMQvRA"
      },
      "source": [
        "셀값 변경"
      ]
    },
    {
      "cell_type": "code",
      "metadata": {
        "colab": {
          "base_uri": "https://localhost:8080/"
        },
        "id": "Lcv0-K8mQw5I",
        "outputId": "9cf8ec10-7b5f-4e34-9f96-ed9ed2a9b478"
      },
      "source": [
        "# 특정 셀의 값을 변경\r\n",
        "df.iloc[0][3] = 99\r\n",
        "print(df, \"\\n\")\r\n",
        "\r\n",
        "df.loc['서준']['체육'] = 11\r\n",
        "print(df, \"\\n\")\r\n",
        "\r\n",
        "df.loc['서준', '체육'] = 22\r\n",
        "print(df, \"\\n\")\r\n",
        "\r\n",
        "# 여러개의 값을 한꺼번에 변경하기\r\n",
        "df.loc['서준', ['음악', '체육']] = 50\r\n",
        "print(df, \"\\n\")\r\n",
        "\r\n",
        "df.loc['서준', ['음악', '체육']] = [60, 61]\r\n",
        "print(df, \"\\n\")"
      ],
      "execution_count": null,
      "outputs": [
        {
          "output_type": "stream",
          "text": [
            "    수학  영어   음악  체육  국어\n",
            "이름                     \n",
            "서준  90  98   85  99  80\n",
            "우현  80  89   95  90  80\n",
            "인아  70  95  100  90  80\n",
            "영철  30  22   55  77  80\n",
            "0    0   0    0   0   0\n",
            "동규  90  80   60  70  50\n",
            "영철  30  22   55  77  80 \n",
            "\n",
            "    수학  영어   음악  체육  국어\n",
            "이름                     \n",
            "서준  90  98   85  11  80\n",
            "우현  80  89   95  90  80\n",
            "인아  70  95  100  90  80\n",
            "영철  30  22   55  77  80\n",
            "0    0   0    0   0   0\n",
            "동규  90  80   60  70  50\n",
            "영철  30  22   55  77  80 \n",
            "\n",
            "    수학  영어   음악  체육  국어\n",
            "이름                     \n",
            "서준  90  98   85  22  80\n",
            "우현  80  89   95  90  80\n",
            "인아  70  95  100  90  80\n",
            "영철  30  22   55  77  80\n",
            "0    0   0    0   0   0\n",
            "동규  90  80   60  70  50\n",
            "영철  30  22   55  77  80 \n",
            "\n",
            "    수학  영어   음악  체육  국어\n",
            "이름                     \n",
            "서준  90  98   50  50  80\n",
            "우현  80  89   95  90  80\n",
            "인아  70  95  100  90  80\n",
            "영철  30  22   55  77  80\n",
            "0    0   0    0   0   0\n",
            "동규  90  80   60  70  50\n",
            "영철  30  22   55  77  80 \n",
            "\n",
            "    수학  영어   음악  체육  국어\n",
            "이름                     \n",
            "서준  90  98   60  61  80\n",
            "우현  80  89   95  90  80\n",
            "인아  70  95  100  90  80\n",
            "영철  30  22   55  77  80\n",
            "0    0   0    0   0   0\n",
            "동규  90  80   60  70  50\n",
            "영철  30  22   55  77  80 \n",
            "\n"
          ],
          "name": "stdout"
        }
      ]
    },
    {
      "cell_type": "code",
      "metadata": {
        "id": "43YeS4EeUVUF",
        "colab": {
          "base_uri": "https://localhost:8080/"
        },
        "outputId": "e7afb919-a68f-428d-ba6d-8d660b5195c2"
      },
      "source": [
        "# 조건문\r\n",
        "df.loc[(df['국어']>70) & (df['국어']<=95), '국어'] = 'Pass'\r\n",
        "print(df, \"\\n\")"
      ],
      "execution_count": null,
      "outputs": [
        {
          "output_type": "stream",
          "text": [
            "    수학  영어   음악  체육    국어\n",
            "이름                       \n",
            "서준  90  98   60  61  Pass\n",
            "우현  80  89   95  90  Pass\n",
            "인아  70  95  100  90  Pass\n",
            "영철  30  22   55  77  Pass\n",
            "0    0   0    0   0     0\n",
            "동규  90  80   60  70    50\n",
            "영철  30  22   55  77  Pass \n",
            "\n"
          ],
          "name": "stdout"
        }
      ]
    },
    {
      "cell_type": "markdown",
      "metadata": {
        "id": "zVUb7BBDDA6D"
      },
      "source": [
        "# 2. 문자열(str) 처리법\r\n",
        "- https://blog.naver.com/wideeyed/221603778414\r\n",
        "- https://pandas.pydata.org/pandas-docs/stable/reference/api/pandas.Series.str.extract.html#pandas.Series.str.extract"
      ]
    },
    {
      "cell_type": "code",
      "metadata": {
        "id": "rACnjTBPDJWa",
        "colab": {
          "base_uri": "https://localhost:8080/",
          "height": 141
        },
        "outputId": "85757c4c-a675-48e7-c056-f29dcebbb43b"
      },
      "source": [
        "# example sample\r\n",
        "df = pd.DataFrame({'email':['happy@gmail.com', \r\n",
        "                            '1004@NAVER.COM', \r\n",
        "                            'manse@yahoo.co.kr']}) \r\n",
        "df"
      ],
      "execution_count": null,
      "outputs": [
        {
          "output_type": "execute_result",
          "data": {
            "text/html": [
              "<div>\n",
              "<style scoped>\n",
              "    .dataframe tbody tr th:only-of-type {\n",
              "        vertical-align: middle;\n",
              "    }\n",
              "\n",
              "    .dataframe tbody tr th {\n",
              "        vertical-align: top;\n",
              "    }\n",
              "\n",
              "    .dataframe thead th {\n",
              "        text-align: right;\n",
              "    }\n",
              "</style>\n",
              "<table border=\"1\" class=\"dataframe\">\n",
              "  <thead>\n",
              "    <tr style=\"text-align: right;\">\n",
              "      <th></th>\n",
              "      <th>email</th>\n",
              "    </tr>\n",
              "  </thead>\n",
              "  <tbody>\n",
              "    <tr>\n",
              "      <th>0</th>\n",
              "      <td>happy@gmail.com</td>\n",
              "    </tr>\n",
              "    <tr>\n",
              "      <th>1</th>\n",
              "      <td>1004@NAVER.COM</td>\n",
              "    </tr>\n",
              "    <tr>\n",
              "      <th>2</th>\n",
              "      <td>manse@yahoo.co.kr</td>\n",
              "    </tr>\n",
              "  </tbody>\n",
              "</table>\n",
              "</div>"
            ],
            "text/plain": [
              "               email\n",
              "0    happy@gmail.com\n",
              "1     1004@NAVER.COM\n",
              "2  manse@yahoo.co.kr"
            ]
          },
          "metadata": {
            "tags": []
          },
          "execution_count": 7
        }
      ]
    },
    {
      "cell_type": "markdown",
      "metadata": {
        "id": "PBIbOryFUjQM"
      },
      "source": [
        "1) 클렌징 - 문자 앞, 뒤의 한칸의 공백을 제거합니다."
      ]
    },
    {
      "cell_type": "code",
      "metadata": {
        "id": "Q2EtFHXyDL7A",
        "colab": {
          "base_uri": "https://localhost:8080/",
          "height": 141
        },
        "outputId": "d0aa7a85-0af8-4c4f-ed6a-93ae26e2902d"
      },
      "source": [
        "df['email_strip']  = df['email'].str.strip()  # 앞 뒤 공백을 제거\r\n",
        "df['email_lstrip'] = df['email'].str.lstrip() # 앞 공백을 제거\r\n",
        "df['email_rstrip'] = df['email'].str.rstrip() # 뒤 공백을 제거 \r\n",
        "df"
      ],
      "execution_count": null,
      "outputs": [
        {
          "output_type": "execute_result",
          "data": {
            "text/html": [
              "<div>\n",
              "<style scoped>\n",
              "    .dataframe tbody tr th:only-of-type {\n",
              "        vertical-align: middle;\n",
              "    }\n",
              "\n",
              "    .dataframe tbody tr th {\n",
              "        vertical-align: top;\n",
              "    }\n",
              "\n",
              "    .dataframe thead th {\n",
              "        text-align: right;\n",
              "    }\n",
              "</style>\n",
              "<table border=\"1\" class=\"dataframe\">\n",
              "  <thead>\n",
              "    <tr style=\"text-align: right;\">\n",
              "      <th></th>\n",
              "      <th>email</th>\n",
              "      <th>email_strip</th>\n",
              "      <th>email_lstrip</th>\n",
              "      <th>email_rstrip</th>\n",
              "    </tr>\n",
              "  </thead>\n",
              "  <tbody>\n",
              "    <tr>\n",
              "      <th>0</th>\n",
              "      <td>happy@gmail.com</td>\n",
              "      <td>happy@gmail.com</td>\n",
              "      <td>happy@gmail.com</td>\n",
              "      <td>happy@gmail.com</td>\n",
              "    </tr>\n",
              "    <tr>\n",
              "      <th>1</th>\n",
              "      <td>1004@NAVER.COM</td>\n",
              "      <td>1004@NAVER.COM</td>\n",
              "      <td>1004@NAVER.COM</td>\n",
              "      <td>1004@NAVER.COM</td>\n",
              "    </tr>\n",
              "    <tr>\n",
              "      <th>2</th>\n",
              "      <td>manse@yahoo.co.kr</td>\n",
              "      <td>manse@yahoo.co.kr</td>\n",
              "      <td>manse@yahoo.co.kr</td>\n",
              "      <td>manse@yahoo.co.kr</td>\n",
              "    </tr>\n",
              "  </tbody>\n",
              "</table>\n",
              "</div>"
            ],
            "text/plain": [
              "               email        email_strip       email_lstrip       email_rstrip\n",
              "0    happy@gmail.com    happy@gmail.com    happy@gmail.com    happy@gmail.com\n",
              "1     1004@NAVER.COM     1004@NAVER.COM     1004@NAVER.COM     1004@NAVER.COM\n",
              "2  manse@yahoo.co.kr  manse@yahoo.co.kr  manse@yahoo.co.kr  manse@yahoo.co.kr"
            ]
          },
          "metadata": {
            "tags": []
          },
          "execution_count": 8
        }
      ]
    },
    {
      "cell_type": "markdown",
      "metadata": {
        "id": "DIuohisfa0_6"
      },
      "source": [
        "2) 패딩\r\n",
        "- 고정길이 데이터를 이용해야 하는경우 왼쪽 또는 오른쪽 또는 중앙에 놓고 패딩합니다."
      ]
    },
    {
      "cell_type": "code",
      "metadata": {
        "id": "TfPcg0oqDNzp",
        "colab": {
          "base_uri": "https://localhost:8080/",
          "height": 161
        },
        "outputId": "92088e76-022b-4bc3-df09-7fe01e576fbf"
      },
      "source": [
        "df = pd.DataFrame({'email':['happy@gmail.com', \r\n",
        "                            '1004@NAVER.COM', \r\n",
        "                            'manse@yahoo.co.kr']}) \r\n",
        "\r\n",
        "df['email_pad']    = df['email'].str.pad(width=20, side='left', fillchar='_') # 지정길이 패딩\r\n",
        "df['email_center'] = df['email'].str.center(width=20, fillchar='_') # 중앙놓고 지정길이 패딩\r\n",
        "df['email_ljust']  = df['email'].str.ljust(width=20, fillchar='_')  # 왼쪽놓고 지정길이 패딩\r\n",
        "df['email_rjust']  = df['email'].str.rjust(width=20, fillchar='_')  # 오른쪽놓고 지정길이 패딩\r\n",
        "df['email_zfill']  = df['email'].str.zfill(width=20)                # 지정길이 0패딩\r\n",
        "df"
      ],
      "execution_count": null,
      "outputs": [
        {
          "output_type": "execute_result",
          "data": {
            "text/html": [
              "<div>\n",
              "<style scoped>\n",
              "    .dataframe tbody tr th:only-of-type {\n",
              "        vertical-align: middle;\n",
              "    }\n",
              "\n",
              "    .dataframe tbody tr th {\n",
              "        vertical-align: top;\n",
              "    }\n",
              "\n",
              "    .dataframe thead th {\n",
              "        text-align: right;\n",
              "    }\n",
              "</style>\n",
              "<table border=\"1\" class=\"dataframe\">\n",
              "  <thead>\n",
              "    <tr style=\"text-align: right;\">\n",
              "      <th></th>\n",
              "      <th>email</th>\n",
              "      <th>email_pad</th>\n",
              "      <th>email_center</th>\n",
              "      <th>email_ljust</th>\n",
              "      <th>email_rjust</th>\n",
              "      <th>email_zfill</th>\n",
              "    </tr>\n",
              "  </thead>\n",
              "  <tbody>\n",
              "    <tr>\n",
              "      <th>0</th>\n",
              "      <td>happy@gmail.com</td>\n",
              "      <td>_____happy@gmail.com</td>\n",
              "      <td>__happy@gmail.com___</td>\n",
              "      <td>happy@gmail.com_____</td>\n",
              "      <td>_____happy@gmail.com</td>\n",
              "      <td>00000happy@gmail.com</td>\n",
              "    </tr>\n",
              "    <tr>\n",
              "      <th>1</th>\n",
              "      <td>1004@NAVER.COM</td>\n",
              "      <td>______1004@NAVER.COM</td>\n",
              "      <td>___1004@NAVER.COM___</td>\n",
              "      <td>1004@NAVER.COM______</td>\n",
              "      <td>______1004@NAVER.COM</td>\n",
              "      <td>0000001004@NAVER.COM</td>\n",
              "    </tr>\n",
              "    <tr>\n",
              "      <th>2</th>\n",
              "      <td>manse@yahoo.co.kr</td>\n",
              "      <td>___manse@yahoo.co.kr</td>\n",
              "      <td>_manse@yahoo.co.kr__</td>\n",
              "      <td>manse@yahoo.co.kr___</td>\n",
              "      <td>___manse@yahoo.co.kr</td>\n",
              "      <td>000manse@yahoo.co.kr</td>\n",
              "    </tr>\n",
              "  </tbody>\n",
              "</table>\n",
              "</div>"
            ],
            "text/plain": [
              "               email  ...           email_zfill\n",
              "0    happy@gmail.com  ...  00000happy@gmail.com\n",
              "1     1004@NAVER.COM  ...  0000001004@NAVER.COM\n",
              "2  manse@yahoo.co.kr  ...  000manse@yahoo.co.kr\n",
              "\n",
              "[3 rows x 6 columns]"
            ]
          },
          "metadata": {
            "tags": []
          },
          "execution_count": 9
        }
      ]
    },
    {
      "cell_type": "markdown",
      "metadata": {
        "id": "mwcYbeOcZE04"
      },
      "source": [
        "3) 분할, 구분자를 이용하여 새로운 컬럼을 생성합니다."
      ]
    },
    {
      "cell_type": "code",
      "metadata": {
        "id": "JR2MRQiFDojr",
        "colab": {
          "base_uri": "https://localhost:8080/",
          "height": 260
        },
        "outputId": "87dbe035-bf59-4e1e-c550-8a44d9f6da48"
      },
      "source": [
        "df = pd.DataFrame({'email':['test@111@222@333',\r\n",
        "                            'happy@gmail.com', \r\n",
        "                            '1004@NAVER.COM', \r\n",
        "                            'manse@yahoo.co.kr']}) \r\n",
        "\r\n",
        "\r\n",
        "# split(): 구분자를 기준으로 n개로 나눈다, expand=True이면 여러 컬럼, False이면 1개 컬럼에 리스트\r\n",
        "df[['split_1', 'split_2', 'split_3']] = df['email'].str.split('@', n=2, expand=True)\r\n",
        "\r\n",
        "# expand=False 인경우\r\n",
        "df[['A']] = df['email'].str.split('@',  expand=False)\r\n",
        "\r\n",
        "# partition(): 좌측에 먼저 출현한 구분자포함 3개로 나눈다\r\n",
        "df[['partition_1', 'partition_2', 'partition_3']] = df['email'].str.partition(sep='@')\r\n",
        "\r\n",
        "# rpartition(): 우측에 먼저 출현한 구분자포함 3개로 나눈다\r\n",
        "df[['rpartition_1','rpartition_2', 'rpartition_3']] = df['email'].str.rpartition(sep='@')\r\n",
        "\r\n",
        "# rsplit(): split와 동일하며 우측부터 탐색하며 n개로 나눈다\r\n",
        "df['rsplit_1']     = df['email'].str.rsplit(pat='@')\r\n",
        "\r\n",
        "df"
      ],
      "execution_count": null,
      "outputs": [
        {
          "output_type": "execute_result",
          "data": {
            "text/html": [
              "<div>\n",
              "<style scoped>\n",
              "    .dataframe tbody tr th:only-of-type {\n",
              "        vertical-align: middle;\n",
              "    }\n",
              "\n",
              "    .dataframe tbody tr th {\n",
              "        vertical-align: top;\n",
              "    }\n",
              "\n",
              "    .dataframe thead th {\n",
              "        text-align: right;\n",
              "    }\n",
              "</style>\n",
              "<table border=\"1\" class=\"dataframe\">\n",
              "  <thead>\n",
              "    <tr style=\"text-align: right;\">\n",
              "      <th></th>\n",
              "      <th>email</th>\n",
              "      <th>split_1</th>\n",
              "      <th>split_2</th>\n",
              "      <th>split_3</th>\n",
              "      <th>A</th>\n",
              "      <th>partition_1</th>\n",
              "      <th>partition_2</th>\n",
              "      <th>partition_3</th>\n",
              "      <th>rpartition_1</th>\n",
              "      <th>rpartition_2</th>\n",
              "      <th>rpartition_3</th>\n",
              "      <th>rsplit_1</th>\n",
              "    </tr>\n",
              "  </thead>\n",
              "  <tbody>\n",
              "    <tr>\n",
              "      <th>0</th>\n",
              "      <td>test@111@222@333</td>\n",
              "      <td>test</td>\n",
              "      <td>111</td>\n",
              "      <td>222@333</td>\n",
              "      <td>[test, 111, 222, 333]</td>\n",
              "      <td>test</td>\n",
              "      <td>@</td>\n",
              "      <td>111@222@333</td>\n",
              "      <td>test@111@222</td>\n",
              "      <td>@</td>\n",
              "      <td>333</td>\n",
              "      <td>[test, 111, 222, 333]</td>\n",
              "    </tr>\n",
              "    <tr>\n",
              "      <th>1</th>\n",
              "      <td>happy@gmail.com</td>\n",
              "      <td>happy</td>\n",
              "      <td>gmail.com</td>\n",
              "      <td>None</td>\n",
              "      <td>[happy, gmail.com]</td>\n",
              "      <td>happy</td>\n",
              "      <td>@</td>\n",
              "      <td>gmail.com</td>\n",
              "      <td>happy</td>\n",
              "      <td>@</td>\n",
              "      <td>gmail.com</td>\n",
              "      <td>[happy, gmail.com]</td>\n",
              "    </tr>\n",
              "    <tr>\n",
              "      <th>2</th>\n",
              "      <td>1004@NAVER.COM</td>\n",
              "      <td>1004</td>\n",
              "      <td>NAVER.COM</td>\n",
              "      <td>None</td>\n",
              "      <td>[1004, NAVER.COM]</td>\n",
              "      <td>1004</td>\n",
              "      <td>@</td>\n",
              "      <td>NAVER.COM</td>\n",
              "      <td>1004</td>\n",
              "      <td>@</td>\n",
              "      <td>NAVER.COM</td>\n",
              "      <td>[1004, NAVER.COM]</td>\n",
              "    </tr>\n",
              "    <tr>\n",
              "      <th>3</th>\n",
              "      <td>manse@yahoo.co.kr</td>\n",
              "      <td>manse</td>\n",
              "      <td>yahoo.co.kr</td>\n",
              "      <td>None</td>\n",
              "      <td>[manse, yahoo.co.kr]</td>\n",
              "      <td>manse</td>\n",
              "      <td>@</td>\n",
              "      <td>yahoo.co.kr</td>\n",
              "      <td>manse</td>\n",
              "      <td>@</td>\n",
              "      <td>yahoo.co.kr</td>\n",
              "      <td>[manse, yahoo.co.kr]</td>\n",
              "    </tr>\n",
              "  </tbody>\n",
              "</table>\n",
              "</div>"
            ],
            "text/plain": [
              "               email split_1  ... rpartition_3               rsplit_1\n",
              "0   test@111@222@333    test  ...          333  [test, 111, 222, 333]\n",
              "1    happy@gmail.com   happy  ...    gmail.com     [happy, gmail.com]\n",
              "2     1004@NAVER.COM    1004  ...    NAVER.COM      [1004, NAVER.COM]\n",
              "3  manse@yahoo.co.kr   manse  ...  yahoo.co.kr   [manse, yahoo.co.kr]\n",
              "\n",
              "[4 rows x 12 columns]"
            ]
          },
          "metadata": {
            "tags": []
          },
          "execution_count": 10
        }
      ]
    },
    {
      "cell_type": "markdown",
      "metadata": {
        "id": "LR1E1i5qH7e9"
      },
      "source": [
        "4) 소문자, 대문자, 앞자리대문자, 소문자 대문자 뒤집기 또는 치환합니다."
      ]
    },
    {
      "cell_type": "code",
      "metadata": {
        "id": "JGGVC1mXDtVk",
        "colab": {
          "base_uri": "https://localhost:8080/",
          "height": 192
        },
        "outputId": "cf02aad9-e0e3-4dde-fd07-e3087898c419"
      },
      "source": [
        "df = pd.DataFrame({'email':['TEST@111@222@333',\r\n",
        "                            'happy@gmail.com', \r\n",
        "                            '1004@NAVER.COM', \r\n",
        "                            'manse@yahoo.co.kr']}) \r\n",
        "\r\n",
        "\r\n",
        "df['lower']      = df['email'].str.lower()      # 모두 소문자로 변경\r\n",
        "df['upper']      = df['email'].str.upper()      # 모두 대문자로 변경\r\n",
        "df['capitalize'] = df['email'].str.capitalize() # 첫글자 한문자만 대문자 나머진 소문자로 변경\r\n",
        "df['title']      = df['email'].str.title()      # 단위별 앞문자 대문자로 변경\r\n",
        "df['swapcase']   = df['email'].str.swapcase()   # 첫글자가 소문자면 대문자, 대문자면 소문자로 변경 \r\n",
        "df['replace']    = df['email'].str.replace(pat='.', repl='_', regex=False) # 입력 패턴 또는 글자를 대체, 예제에서는 .을 _로 변경\r\n",
        "\r\n",
        "df"
      ],
      "execution_count": null,
      "outputs": [
        {
          "output_type": "execute_result",
          "data": {
            "text/html": [
              "<div>\n",
              "<style scoped>\n",
              "    .dataframe tbody tr th:only-of-type {\n",
              "        vertical-align: middle;\n",
              "    }\n",
              "\n",
              "    .dataframe tbody tr th {\n",
              "        vertical-align: top;\n",
              "    }\n",
              "\n",
              "    .dataframe thead th {\n",
              "        text-align: right;\n",
              "    }\n",
              "</style>\n",
              "<table border=\"1\" class=\"dataframe\">\n",
              "  <thead>\n",
              "    <tr style=\"text-align: right;\">\n",
              "      <th></th>\n",
              "      <th>email</th>\n",
              "      <th>lower</th>\n",
              "      <th>upper</th>\n",
              "      <th>capitalize</th>\n",
              "      <th>title</th>\n",
              "      <th>swapcase</th>\n",
              "      <th>replace</th>\n",
              "    </tr>\n",
              "  </thead>\n",
              "  <tbody>\n",
              "    <tr>\n",
              "      <th>0</th>\n",
              "      <td>TEST@111@222@333</td>\n",
              "      <td>test@111@222@333</td>\n",
              "      <td>TEST@111@222@333</td>\n",
              "      <td>Test@111@222@333</td>\n",
              "      <td>Test@111@222@333</td>\n",
              "      <td>test@111@222@333</td>\n",
              "      <td>TEST@111@222@333</td>\n",
              "    </tr>\n",
              "    <tr>\n",
              "      <th>1</th>\n",
              "      <td>happy@gmail.com</td>\n",
              "      <td>happy@gmail.com</td>\n",
              "      <td>HAPPY@GMAIL.COM</td>\n",
              "      <td>Happy@gmail.com</td>\n",
              "      <td>Happy@Gmail.Com</td>\n",
              "      <td>HAPPY@GMAIL.COM</td>\n",
              "      <td>happy@gmail_com</td>\n",
              "    </tr>\n",
              "    <tr>\n",
              "      <th>2</th>\n",
              "      <td>1004@NAVER.COM</td>\n",
              "      <td>1004@naver.com</td>\n",
              "      <td>1004@NAVER.COM</td>\n",
              "      <td>1004@naver.com</td>\n",
              "      <td>1004@Naver.Com</td>\n",
              "      <td>1004@naver.com</td>\n",
              "      <td>1004@NAVER_COM</td>\n",
              "    </tr>\n",
              "    <tr>\n",
              "      <th>3</th>\n",
              "      <td>manse@yahoo.co.kr</td>\n",
              "      <td>manse@yahoo.co.kr</td>\n",
              "      <td>MANSE@YAHOO.CO.KR</td>\n",
              "      <td>Manse@yahoo.co.kr</td>\n",
              "      <td>Manse@Yahoo.Co.Kr</td>\n",
              "      <td>MANSE@YAHOO.CO.KR</td>\n",
              "      <td>manse@yahoo_co_kr</td>\n",
              "    </tr>\n",
              "  </tbody>\n",
              "</table>\n",
              "</div>"
            ],
            "text/plain": [
              "               email              lower  ...           swapcase            replace\n",
              "0   TEST@111@222@333   test@111@222@333  ...   test@111@222@333   TEST@111@222@333\n",
              "1    happy@gmail.com    happy@gmail.com  ...    HAPPY@GMAIL.COM    happy@gmail_com\n",
              "2     1004@NAVER.COM     1004@naver.com  ...     1004@naver.com     1004@NAVER_COM\n",
              "3  manse@yahoo.co.kr  manse@yahoo.co.kr  ...  MANSE@YAHOO.CO.KR  manse@yahoo_co_kr\n",
              "\n",
              "[4 rows x 7 columns]"
            ]
          },
          "metadata": {
            "tags": []
          },
          "execution_count": 11
        }
      ]
    },
    {
      "cell_type": "markdown",
      "metadata": {
        "id": "owuT0S54IALd"
      },
      "source": [
        "5)  문자열의 위치(=인덱스)를 찾습니다."
      ]
    },
    {
      "cell_type": "code",
      "metadata": {
        "id": "EuzbrO52Dxz0",
        "colab": {
          "base_uri": "https://localhost:8080/",
          "height": 141
        },
        "outputId": "b68c50e1-f585-4e24-830c-ea5cc43349ad"
      },
      "source": [
        "df = pd.DataFrame({'email':['happy@gmail.com.aaa.bbb', \r\n",
        "                            '1004@NAVER.COM.ccc', \r\n",
        "                            'manse@yahoo.co.kr.ddd']}) \r\n",
        "\r\n",
        "df['find']    = df['email'].str.find(sub='.')           # 가장왼쪽 sub값 검색후 위치반환\r\n",
        "df['index']   = df['email'].str.index(sub='.')          # 가장왼쪽 sub값 검색후 위치반환\r\n",
        "df['rfind']   = df['email'].str.rfind(sub='.')          # 가장오른쪽 sub값 검색후 위치반환\r\n",
        "df['rindex']  = df['email'].str.rindex(sub='.')         # 가장오른쪽 sub값 검색후 위치반환\r\n",
        "df['findall'] = df['email'].str.findall(pat='[a-zA-Z]') # 알파벳 대소문자를 검색하여 모두 반환\r\n",
        "\r\n",
        "df"
      ],
      "execution_count": null,
      "outputs": [
        {
          "output_type": "execute_result",
          "data": {
            "text/html": [
              "<div>\n",
              "<style scoped>\n",
              "    .dataframe tbody tr th:only-of-type {\n",
              "        vertical-align: middle;\n",
              "    }\n",
              "\n",
              "    .dataframe tbody tr th {\n",
              "        vertical-align: top;\n",
              "    }\n",
              "\n",
              "    .dataframe thead th {\n",
              "        text-align: right;\n",
              "    }\n",
              "</style>\n",
              "<table border=\"1\" class=\"dataframe\">\n",
              "  <thead>\n",
              "    <tr style=\"text-align: right;\">\n",
              "      <th></th>\n",
              "      <th>email</th>\n",
              "      <th>find</th>\n",
              "      <th>index</th>\n",
              "      <th>rfind</th>\n",
              "      <th>rindex</th>\n",
              "      <th>findall</th>\n",
              "    </tr>\n",
              "  </thead>\n",
              "  <tbody>\n",
              "    <tr>\n",
              "      <th>0</th>\n",
              "      <td>happy@gmail.com.aaa.bbb</td>\n",
              "      <td>11</td>\n",
              "      <td>11</td>\n",
              "      <td>19</td>\n",
              "      <td>19</td>\n",
              "      <td>[h, a, p, p, y, g, m, a, i, l, c, o, m, a, a, ...</td>\n",
              "    </tr>\n",
              "    <tr>\n",
              "      <th>1</th>\n",
              "      <td>1004@NAVER.COM.ccc</td>\n",
              "      <td>10</td>\n",
              "      <td>10</td>\n",
              "      <td>14</td>\n",
              "      <td>14</td>\n",
              "      <td>[N, A, V, E, R, C, O, M, c, c, c]</td>\n",
              "    </tr>\n",
              "    <tr>\n",
              "      <th>2</th>\n",
              "      <td>manse@yahoo.co.kr.ddd</td>\n",
              "      <td>11</td>\n",
              "      <td>11</td>\n",
              "      <td>17</td>\n",
              "      <td>17</td>\n",
              "      <td>[m, a, n, s, e, y, a, h, o, o, c, o, k, r, d, ...</td>\n",
              "    </tr>\n",
              "  </tbody>\n",
              "</table>\n",
              "</div>"
            ],
            "text/plain": [
              "                     email  ...                                            findall\n",
              "0  happy@gmail.com.aaa.bbb  ...  [h, a, p, p, y, g, m, a, i, l, c, o, m, a, a, ...\n",
              "1       1004@NAVER.COM.ccc  ...                  [N, A, V, E, R, C, O, M, c, c, c]\n",
              "2    manse@yahoo.co.kr.ddd  ...  [m, a, n, s, e, y, a, h, o, o, c, o, k, r, d, ...\n",
              "\n",
              "[3 rows x 6 columns]"
            ]
          },
          "metadata": {
            "tags": []
          },
          "execution_count": 19
        }
      ]
    },
    {
      "cell_type": "markdown",
      "metadata": {
        "id": "ELD7S6keLNx1"
      },
      "source": [
        "6) 문자열의 특정 위치의 값 또는 슬라이싱을 통해 자르거나 자른 내용을 치환합니다."
      ]
    },
    {
      "cell_type": "code",
      "metadata": {
        "id": "HyjPR92qD4bn",
        "colab": {
          "base_uri": "https://localhost:8080/",
          "height": 141
        },
        "outputId": "d57a974d-5dcb-49bf-9e21-a2239e4c126a"
      },
      "source": [
        "df = pd.DataFrame({'email':['abcdefg',\r\n",
        "                            'ABCDEFG', \r\n",
        "                            '1234567']}) \r\n",
        "\r\n",
        "df['get']           = df['email'].str.get(i=0)    # 지정 위치의 문자 반환\r\n",
        "df['slice']         = df['email'].str.slice(start=0, stop=3) # start 인덱스부터 stop전 인덱스까지 값 반환\r\n",
        "df['slice_replace'] = df['email'].str.slice_replace(start=1, stop=3, repl='?') # 인덱스 사이 값을 다른 값으로 바꾼 후 값 반환\r\n",
        "\r\n",
        "df"
      ],
      "execution_count": null,
      "outputs": [
        {
          "output_type": "execute_result",
          "data": {
            "text/html": [
              "<div>\n",
              "<style scoped>\n",
              "    .dataframe tbody tr th:only-of-type {\n",
              "        vertical-align: middle;\n",
              "    }\n",
              "\n",
              "    .dataframe tbody tr th {\n",
              "        vertical-align: top;\n",
              "    }\n",
              "\n",
              "    .dataframe thead th {\n",
              "        text-align: right;\n",
              "    }\n",
              "</style>\n",
              "<table border=\"1\" class=\"dataframe\">\n",
              "  <thead>\n",
              "    <tr style=\"text-align: right;\">\n",
              "      <th></th>\n",
              "      <th>email</th>\n",
              "      <th>get</th>\n",
              "      <th>slice</th>\n",
              "      <th>slice_replace</th>\n",
              "    </tr>\n",
              "  </thead>\n",
              "  <tbody>\n",
              "    <tr>\n",
              "      <th>0</th>\n",
              "      <td>abcdefg</td>\n",
              "      <td>a</td>\n",
              "      <td>abc</td>\n",
              "      <td>a?defg</td>\n",
              "    </tr>\n",
              "    <tr>\n",
              "      <th>1</th>\n",
              "      <td>ABCDEFG</td>\n",
              "      <td>A</td>\n",
              "      <td>ABC</td>\n",
              "      <td>A?DEFG</td>\n",
              "    </tr>\n",
              "    <tr>\n",
              "      <th>2</th>\n",
              "      <td>1234567</td>\n",
              "      <td>1</td>\n",
              "      <td>123</td>\n",
              "      <td>1?4567</td>\n",
              "    </tr>\n",
              "  </tbody>\n",
              "</table>\n",
              "</div>"
            ],
            "text/plain": [
              "     email get slice slice_replace\n",
              "0  abcdefg   a   abc        a?defg\n",
              "1  ABCDEFG   A   ABC        A?DEFG\n",
              "2  1234567   1   123        1?4567"
            ]
          },
          "metadata": {
            "tags": []
          },
          "execution_count": 26
        }
      ]
    },
    {
      "cell_type": "markdown",
      "metadata": {
        "id": "ynk7rJ3BNLTj"
      },
      "source": [
        "7) 길이를 측정합니다. 패턴에 맞는 경우에만 개수를 반환하기도 합니다."
      ]
    },
    {
      "cell_type": "code",
      "metadata": {
        "id": "8kq1yknQEB02",
        "colab": {
          "base_uri": "https://localhost:8080/",
          "height": 141
        },
        "outputId": "104f01d0-e416-4a2f-e1e6-184a6de45d29"
      },
      "source": [
        "df = pd.DataFrame({'email':['abcdefg',\r\n",
        "                            'ABCDEFG', \r\n",
        "                            '1234567']}) \r\n",
        "\r\n",
        "df['email_len']   = df['email'].str.len()              # 길이 반환\r\n",
        "df['email_count'] = df['email'].str.count(pat='[0-9]') # 문자열 중 패턴에 일치한 수 반환\r\n",
        " \r\n",
        "df"
      ],
      "execution_count": null,
      "outputs": [
        {
          "output_type": "execute_result",
          "data": {
            "text/html": [
              "<div>\n",
              "<style scoped>\n",
              "    .dataframe tbody tr th:only-of-type {\n",
              "        vertical-align: middle;\n",
              "    }\n",
              "\n",
              "    .dataframe tbody tr th {\n",
              "        vertical-align: top;\n",
              "    }\n",
              "\n",
              "    .dataframe thead th {\n",
              "        text-align: right;\n",
              "    }\n",
              "</style>\n",
              "<table border=\"1\" class=\"dataframe\">\n",
              "  <thead>\n",
              "    <tr style=\"text-align: right;\">\n",
              "      <th></th>\n",
              "      <th>email</th>\n",
              "      <th>email_len</th>\n",
              "      <th>email_count</th>\n",
              "    </tr>\n",
              "  </thead>\n",
              "  <tbody>\n",
              "    <tr>\n",
              "      <th>0</th>\n",
              "      <td>abcdefg</td>\n",
              "      <td>7</td>\n",
              "      <td>0</td>\n",
              "    </tr>\n",
              "    <tr>\n",
              "      <th>1</th>\n",
              "      <td>ABCDEFG</td>\n",
              "      <td>7</td>\n",
              "      <td>0</td>\n",
              "    </tr>\n",
              "    <tr>\n",
              "      <th>2</th>\n",
              "      <td>1234567</td>\n",
              "      <td>7</td>\n",
              "      <td>7</td>\n",
              "    </tr>\n",
              "  </tbody>\n",
              "</table>\n",
              "</div>"
            ],
            "text/plain": [
              "     email  email_len  email_count\n",
              "0  abcdefg          7            0\n",
              "1  ABCDEFG          7            0\n",
              "2  1234567          7            7"
            ]
          },
          "metadata": {
            "tags": []
          },
          "execution_count": 28
        }
      ]
    },
    {
      "cell_type": "markdown",
      "metadata": {
        "id": "qSws_kYoNl4y"
      },
      "source": [
        "8) 숫자, 알파벳, 소문자인지 대문자인지 등을 확인합니다."
      ]
    },
    {
      "cell_type": "code",
      "metadata": {
        "id": "C1gAggjIEFXm",
        "colab": {
          "base_uri": "https://localhost:8080/",
          "height": 234
        },
        "outputId": "13c4f244-88c1-49f3-91a9-f3de9c301360"
      },
      "source": [
        "df = pd.DataFrame({'email':['abcdefg',\r\n",
        "                            'ABCDEFG', \r\n",
        "                            '1234567',\r\n",
        "                            'Test1234567',\r\n",
        "                            ' TEST 123 4567',\r\n",
        "                            '  ']}) \r\n",
        "\r\n",
        "df['salnum']   = df['email'].str.isalnum()   # 알파벳 또는 숫자로만 구성 여부\r\n",
        "df['isalpha']   = df['email'].str.isalpha()   # 알파벳으로만 구성 여부\r\n",
        "df['isdecimal'] = df['email'].str.isdecimal() # 숫자문자로만 구성 여부\r\n",
        "df['isdigit']   = df['email'].str.isdigit()   # 숫자문자로만 구성 여부\r\n",
        "df['islower']   = df['email'].str.islower()   # 소문자로만 구성 여부\r\n",
        "df['isnumeric'] = df['email'].str.isnumeric() # 숫자문자로만 구성 여부\r\n",
        "df['isspace']   = df['email'].str.isspace()   # 빈칸상태 여부\r\n",
        "df['istitle']   = df['email'].str.istitle()   # TitleCase형태로 구성 여부\r\n",
        "df['isupper']   = df['email'].str.isupper()   # 대문자로만 구성 여부\r\n",
        "\r\n",
        "df"
      ],
      "execution_count": null,
      "outputs": [
        {
          "output_type": "execute_result",
          "data": {
            "text/html": [
              "<div>\n",
              "<style scoped>\n",
              "    .dataframe tbody tr th:only-of-type {\n",
              "        vertical-align: middle;\n",
              "    }\n",
              "\n",
              "    .dataframe tbody tr th {\n",
              "        vertical-align: top;\n",
              "    }\n",
              "\n",
              "    .dataframe thead th {\n",
              "        text-align: right;\n",
              "    }\n",
              "</style>\n",
              "<table border=\"1\" class=\"dataframe\">\n",
              "  <thead>\n",
              "    <tr style=\"text-align: right;\">\n",
              "      <th></th>\n",
              "      <th>email</th>\n",
              "      <th>salnum</th>\n",
              "      <th>isalpha</th>\n",
              "      <th>isdecimal</th>\n",
              "      <th>isdigit</th>\n",
              "      <th>islower</th>\n",
              "      <th>isnumeric</th>\n",
              "      <th>isspace</th>\n",
              "      <th>istitle</th>\n",
              "      <th>isupper</th>\n",
              "    </tr>\n",
              "  </thead>\n",
              "  <tbody>\n",
              "    <tr>\n",
              "      <th>0</th>\n",
              "      <td>abcdefg</td>\n",
              "      <td>True</td>\n",
              "      <td>True</td>\n",
              "      <td>False</td>\n",
              "      <td>False</td>\n",
              "      <td>True</td>\n",
              "      <td>False</td>\n",
              "      <td>False</td>\n",
              "      <td>False</td>\n",
              "      <td>False</td>\n",
              "    </tr>\n",
              "    <tr>\n",
              "      <th>1</th>\n",
              "      <td>ABCDEFG</td>\n",
              "      <td>True</td>\n",
              "      <td>True</td>\n",
              "      <td>False</td>\n",
              "      <td>False</td>\n",
              "      <td>False</td>\n",
              "      <td>False</td>\n",
              "      <td>False</td>\n",
              "      <td>False</td>\n",
              "      <td>True</td>\n",
              "    </tr>\n",
              "    <tr>\n",
              "      <th>2</th>\n",
              "      <td>1234567</td>\n",
              "      <td>True</td>\n",
              "      <td>False</td>\n",
              "      <td>True</td>\n",
              "      <td>True</td>\n",
              "      <td>False</td>\n",
              "      <td>True</td>\n",
              "      <td>False</td>\n",
              "      <td>False</td>\n",
              "      <td>False</td>\n",
              "    </tr>\n",
              "    <tr>\n",
              "      <th>3</th>\n",
              "      <td>Test1234567</td>\n",
              "      <td>True</td>\n",
              "      <td>False</td>\n",
              "      <td>False</td>\n",
              "      <td>False</td>\n",
              "      <td>False</td>\n",
              "      <td>False</td>\n",
              "      <td>False</td>\n",
              "      <td>True</td>\n",
              "      <td>False</td>\n",
              "    </tr>\n",
              "    <tr>\n",
              "      <th>4</th>\n",
              "      <td>TEST 123 4567</td>\n",
              "      <td>False</td>\n",
              "      <td>False</td>\n",
              "      <td>False</td>\n",
              "      <td>False</td>\n",
              "      <td>False</td>\n",
              "      <td>False</td>\n",
              "      <td>False</td>\n",
              "      <td>False</td>\n",
              "      <td>True</td>\n",
              "    </tr>\n",
              "    <tr>\n",
              "      <th>5</th>\n",
              "      <td></td>\n",
              "      <td>False</td>\n",
              "      <td>False</td>\n",
              "      <td>False</td>\n",
              "      <td>False</td>\n",
              "      <td>False</td>\n",
              "      <td>False</td>\n",
              "      <td>True</td>\n",
              "      <td>False</td>\n",
              "      <td>False</td>\n",
              "    </tr>\n",
              "  </tbody>\n",
              "</table>\n",
              "</div>"
            ],
            "text/plain": [
              "            email  salnum  isalpha  ...  isspace  istitle  isupper\n",
              "0         abcdefg    True     True  ...    False    False    False\n",
              "1         ABCDEFG    True     True  ...    False    False     True\n",
              "2         1234567    True    False  ...    False    False    False\n",
              "3     Test1234567    True    False  ...    False     True    False\n",
              "4   TEST 123 4567   False    False  ...    False    False     True\n",
              "5                   False    False  ...     True    False    False\n",
              "\n",
              "[6 rows x 10 columns]"
            ]
          },
          "metadata": {
            "tags": []
          },
          "execution_count": 38
        }
      ]
    },
    {
      "cell_type": "markdown",
      "metadata": {
        "id": "aY5qBENxPUZd"
      },
      "source": [
        "9) 문자열의 시작 값 또는 종료 값 또는 특정 패턴과 일치하는 경우를 찾아냅니다."
      ]
    },
    {
      "cell_type": "code",
      "metadata": {
        "id": "7KoZkTPrEJht",
        "colab": {
          "base_uri": "https://localhost:8080/",
          "height": 203
        },
        "outputId": "9e9fb12a-e170-41f4-a489-fc98a1092292"
      },
      "source": [
        "df = pd.DataFrame({'email':['happy@gmail.com',                           \r\n",
        "                            'manse@yahoo.co.kr',\r\n",
        "                            '1004@NAVER.COM.KR', \r\n",
        "                            'a1004@NAVER.COM.KR', \r\n",
        "                            '1004a@NAVER.COM.KR']}) \r\n",
        "\r\n",
        "df['startswith'] = df['email'].str.startswith(pat='h')     # 좌측값이 입력패턴과 일치 여부\r\n",
        "df['endswith']   = df['email'].str.endswith(pat='com')     # 우측값이 입력패턴과 일치 여부\r\n",
        "df['contains']   = df['email'].str.contains(pat='kr', regex=False) # 값 중 패턴포함 여부\r\n",
        "df['match']      = df['email'].str.match(pat='[a-zA-Z@.]') # 구분자인 @앞에 첫문자가 알파벳인지 여부\r\n",
        "\r\n",
        "df"
      ],
      "execution_count": null,
      "outputs": [
        {
          "output_type": "execute_result",
          "data": {
            "text/html": [
              "<div>\n",
              "<style scoped>\n",
              "    .dataframe tbody tr th:only-of-type {\n",
              "        vertical-align: middle;\n",
              "    }\n",
              "\n",
              "    .dataframe tbody tr th {\n",
              "        vertical-align: top;\n",
              "    }\n",
              "\n",
              "    .dataframe thead th {\n",
              "        text-align: right;\n",
              "    }\n",
              "</style>\n",
              "<table border=\"1\" class=\"dataframe\">\n",
              "  <thead>\n",
              "    <tr style=\"text-align: right;\">\n",
              "      <th></th>\n",
              "      <th>email</th>\n",
              "      <th>startswith</th>\n",
              "      <th>endswith</th>\n",
              "      <th>contains</th>\n",
              "      <th>match</th>\n",
              "    </tr>\n",
              "  </thead>\n",
              "  <tbody>\n",
              "    <tr>\n",
              "      <th>0</th>\n",
              "      <td>happy@gmail.com</td>\n",
              "      <td>True</td>\n",
              "      <td>True</td>\n",
              "      <td>False</td>\n",
              "      <td>True</td>\n",
              "    </tr>\n",
              "    <tr>\n",
              "      <th>1</th>\n",
              "      <td>manse@yahoo.co.kr</td>\n",
              "      <td>False</td>\n",
              "      <td>False</td>\n",
              "      <td>True</td>\n",
              "      <td>True</td>\n",
              "    </tr>\n",
              "    <tr>\n",
              "      <th>2</th>\n",
              "      <td>1004@NAVER.COM.KR</td>\n",
              "      <td>False</td>\n",
              "      <td>False</td>\n",
              "      <td>False</td>\n",
              "      <td>False</td>\n",
              "    </tr>\n",
              "    <tr>\n",
              "      <th>3</th>\n",
              "      <td>a1004@NAVER.COM.KR</td>\n",
              "      <td>False</td>\n",
              "      <td>False</td>\n",
              "      <td>False</td>\n",
              "      <td>True</td>\n",
              "    </tr>\n",
              "    <tr>\n",
              "      <th>4</th>\n",
              "      <td>1004a@NAVER.COM.KR</td>\n",
              "      <td>False</td>\n",
              "      <td>False</td>\n",
              "      <td>False</td>\n",
              "      <td>False</td>\n",
              "    </tr>\n",
              "  </tbody>\n",
              "</table>\n",
              "</div>"
            ],
            "text/plain": [
              "                email  startswith  endswith  contains  match\n",
              "0     happy@gmail.com        True      True     False   True\n",
              "1   manse@yahoo.co.kr       False     False      True   True\n",
              "2   1004@NAVER.COM.KR       False     False     False  False\n",
              "3  a1004@NAVER.COM.KR       False     False     False   True\n",
              "4  1004a@NAVER.COM.KR       False     False     False  False"
            ]
          },
          "metadata": {
            "tags": []
          },
          "execution_count": 51
        }
      ]
    },
    {
      "cell_type": "markdown",
      "metadata": {
        "id": "dlhHlXt9DstL"
      },
      "source": [
        "# 3. 칼럼/로우 삭제하기 \r\n",
        "\r\n",
        "https://wikidocs.net/47419"
      ]
    },
    {
      "cell_type": "code",
      "metadata": {
        "id": "DJvHkFW3ER69",
        "colab": {
          "base_uri": "https://localhost:8080/",
          "height": 203
        },
        "outputId": "40a142c3-852a-436b-bdfd-5574afa134a6"
      },
      "source": [
        "from pandas import Series, DataFrame\r\n",
        "\r\n",
        "data = [\r\n",
        "    [112000, 112500, 109500, 110500],\r\n",
        "    [114000, 114500, 110500, 111000],\r\n",
        "    [113000, 115000, 112000, 115000],\r\n",
        "    [111500, 112500, 110000, 111500],\r\n",
        "    [111000, 114000, 109500, 112000],\r\n",
        " ]\r\n",
        "\r\n",
        "columns = [\"시가\", \"고가\", \"저가\", \"종가\"]\r\n",
        "index = [\"2019-06-05\", \"2019-06-04\", \"2019-06-03\", \"2019-05-31\", \"2019-05-30\"]\r\n",
        "df = DataFrame(data=data, index=index, columns=columns)\r\n",
        "df"
      ],
      "execution_count": null,
      "outputs": [
        {
          "output_type": "execute_result",
          "data": {
            "text/html": [
              "<div>\n",
              "<style scoped>\n",
              "    .dataframe tbody tr th:only-of-type {\n",
              "        vertical-align: middle;\n",
              "    }\n",
              "\n",
              "    .dataframe tbody tr th {\n",
              "        vertical-align: top;\n",
              "    }\n",
              "\n",
              "    .dataframe thead th {\n",
              "        text-align: right;\n",
              "    }\n",
              "</style>\n",
              "<table border=\"1\" class=\"dataframe\">\n",
              "  <thead>\n",
              "    <tr style=\"text-align: right;\">\n",
              "      <th></th>\n",
              "      <th>시가</th>\n",
              "      <th>고가</th>\n",
              "      <th>저가</th>\n",
              "      <th>종가</th>\n",
              "    </tr>\n",
              "  </thead>\n",
              "  <tbody>\n",
              "    <tr>\n",
              "      <th>2019-06-05</th>\n",
              "      <td>112000</td>\n",
              "      <td>112500</td>\n",
              "      <td>109500</td>\n",
              "      <td>110500</td>\n",
              "    </tr>\n",
              "    <tr>\n",
              "      <th>2019-06-04</th>\n",
              "      <td>114000</td>\n",
              "      <td>114500</td>\n",
              "      <td>110500</td>\n",
              "      <td>111000</td>\n",
              "    </tr>\n",
              "    <tr>\n",
              "      <th>2019-06-03</th>\n",
              "      <td>113000</td>\n",
              "      <td>115000</td>\n",
              "      <td>112000</td>\n",
              "      <td>115000</td>\n",
              "    </tr>\n",
              "    <tr>\n",
              "      <th>2019-05-31</th>\n",
              "      <td>111500</td>\n",
              "      <td>112500</td>\n",
              "      <td>110000</td>\n",
              "      <td>111500</td>\n",
              "    </tr>\n",
              "    <tr>\n",
              "      <th>2019-05-30</th>\n",
              "      <td>111000</td>\n",
              "      <td>114000</td>\n",
              "      <td>109500</td>\n",
              "      <td>112000</td>\n",
              "    </tr>\n",
              "  </tbody>\n",
              "</table>\n",
              "</div>"
            ],
            "text/plain": [
              "                시가      고가      저가      종가\n",
              "2019-06-05  112000  112500  109500  110500\n",
              "2019-06-04  114000  114500  110500  111000\n",
              "2019-06-03  113000  115000  112000  115000\n",
              "2019-05-31  111500  112500  110000  111500\n",
              "2019-05-30  111000  114000  109500  112000"
            ]
          },
          "metadata": {
            "tags": []
          },
          "execution_count": 17
        }
      ]
    },
    {
      "cell_type": "code",
      "metadata": {
        "colab": {
          "base_uri": "https://localhost:8080/",
          "height": 203
        },
        "id": "uRkEbpvHErpg",
        "outputId": "7def534f-6c11-4c3f-8b80-197203d7add7"
      },
      "source": [
        "# 칼럼 삭제\r\n",
        "df2 = df.drop(\"시가\", axis=1) # '시가' 칼럼삭제\r\n",
        "df2"
      ],
      "execution_count": null,
      "outputs": [
        {
          "output_type": "execute_result",
          "data": {
            "text/html": [
              "<div>\n",
              "<style scoped>\n",
              "    .dataframe tbody tr th:only-of-type {\n",
              "        vertical-align: middle;\n",
              "    }\n",
              "\n",
              "    .dataframe tbody tr th {\n",
              "        vertical-align: top;\n",
              "    }\n",
              "\n",
              "    .dataframe thead th {\n",
              "        text-align: right;\n",
              "    }\n",
              "</style>\n",
              "<table border=\"1\" class=\"dataframe\">\n",
              "  <thead>\n",
              "    <tr style=\"text-align: right;\">\n",
              "      <th></th>\n",
              "      <th>고가</th>\n",
              "      <th>저가</th>\n",
              "      <th>종가</th>\n",
              "    </tr>\n",
              "  </thead>\n",
              "  <tbody>\n",
              "    <tr>\n",
              "      <th>2019-06-05</th>\n",
              "      <td>112500</td>\n",
              "      <td>109500</td>\n",
              "      <td>110500</td>\n",
              "    </tr>\n",
              "    <tr>\n",
              "      <th>2019-06-04</th>\n",
              "      <td>114500</td>\n",
              "      <td>110500</td>\n",
              "      <td>111000</td>\n",
              "    </tr>\n",
              "    <tr>\n",
              "      <th>2019-06-03</th>\n",
              "      <td>115000</td>\n",
              "      <td>112000</td>\n",
              "      <td>115000</td>\n",
              "    </tr>\n",
              "    <tr>\n",
              "      <th>2019-05-31</th>\n",
              "      <td>112500</td>\n",
              "      <td>110000</td>\n",
              "      <td>111500</td>\n",
              "    </tr>\n",
              "    <tr>\n",
              "      <th>2019-05-30</th>\n",
              "      <td>114000</td>\n",
              "      <td>109500</td>\n",
              "      <td>112000</td>\n",
              "    </tr>\n",
              "  </tbody>\n",
              "</table>\n",
              "</div>"
            ],
            "text/plain": [
              "                고가      저가      종가\n",
              "2019-06-05  112500  109500  110500\n",
              "2019-06-04  114500  110500  111000\n",
              "2019-06-03  115000  112000  115000\n",
              "2019-05-31  112500  110000  111500\n",
              "2019-05-30  114000  109500  112000"
            ]
          },
          "metadata": {
            "tags": []
          },
          "execution_count": 18
        }
      ]
    },
    {
      "cell_type": "code",
      "metadata": {
        "colab": {
          "base_uri": "https://localhost:8080/",
          "height": 172
        },
        "id": "hWFKPy54EIPd",
        "outputId": "e0dbe90f-afe9-4517-8807-78f452945e6e"
      },
      "source": [
        "# 로우 삭제\r\n",
        "df2=df.drop(\"2019-05-30\", axis=0)\r\n",
        "df2"
      ],
      "execution_count": null,
      "outputs": [
        {
          "output_type": "execute_result",
          "data": {
            "text/html": [
              "<div>\n",
              "<style scoped>\n",
              "    .dataframe tbody tr th:only-of-type {\n",
              "        vertical-align: middle;\n",
              "    }\n",
              "\n",
              "    .dataframe tbody tr th {\n",
              "        vertical-align: top;\n",
              "    }\n",
              "\n",
              "    .dataframe thead th {\n",
              "        text-align: right;\n",
              "    }\n",
              "</style>\n",
              "<table border=\"1\" class=\"dataframe\">\n",
              "  <thead>\n",
              "    <tr style=\"text-align: right;\">\n",
              "      <th></th>\n",
              "      <th>시가</th>\n",
              "      <th>고가</th>\n",
              "      <th>저가</th>\n",
              "      <th>종가</th>\n",
              "    </tr>\n",
              "  </thead>\n",
              "  <tbody>\n",
              "    <tr>\n",
              "      <th>2019-06-05</th>\n",
              "      <td>112000</td>\n",
              "      <td>112500</td>\n",
              "      <td>109500</td>\n",
              "      <td>110500</td>\n",
              "    </tr>\n",
              "    <tr>\n",
              "      <th>2019-06-04</th>\n",
              "      <td>114000</td>\n",
              "      <td>114500</td>\n",
              "      <td>110500</td>\n",
              "      <td>111000</td>\n",
              "    </tr>\n",
              "    <tr>\n",
              "      <th>2019-06-03</th>\n",
              "      <td>113000</td>\n",
              "      <td>115000</td>\n",
              "      <td>112000</td>\n",
              "      <td>115000</td>\n",
              "    </tr>\n",
              "    <tr>\n",
              "      <th>2019-05-31</th>\n",
              "      <td>111500</td>\n",
              "      <td>112500</td>\n",
              "      <td>110000</td>\n",
              "      <td>111500</td>\n",
              "    </tr>\n",
              "  </tbody>\n",
              "</table>\n",
              "</div>"
            ],
            "text/plain": [
              "                시가      고가      저가      종가\n",
              "2019-06-05  112000  112500  109500  110500\n",
              "2019-06-04  114000  114500  110500  111000\n",
              "2019-06-03  113000  115000  112000  115000\n",
              "2019-05-31  111500  112500  110000  111500"
            ]
          },
          "metadata": {
            "tags": []
          },
          "execution_count": 19
        }
      ]
    },
    {
      "cell_type": "code",
      "metadata": {
        "colab": {
          "base_uri": "https://localhost:8080/",
          "height": 141
        },
        "id": "D-Pv7CnuEkRM",
        "outputId": "96abc07f-30ae-432b-9f04-5e51571600c6"
      },
      "source": [
        "# 원본데이터도 삭제하고 싶은경우 'inplace'속성사용\r\n",
        "df.drop([\"2019-05-31\", \"2019-05-30\"], axis=0, inplace=True)\r\n",
        "df"
      ],
      "execution_count": null,
      "outputs": [
        {
          "output_type": "execute_result",
          "data": {
            "text/html": [
              "<div>\n",
              "<style scoped>\n",
              "    .dataframe tbody tr th:only-of-type {\n",
              "        vertical-align: middle;\n",
              "    }\n",
              "\n",
              "    .dataframe tbody tr th {\n",
              "        vertical-align: top;\n",
              "    }\n",
              "\n",
              "    .dataframe thead th {\n",
              "        text-align: right;\n",
              "    }\n",
              "</style>\n",
              "<table border=\"1\" class=\"dataframe\">\n",
              "  <thead>\n",
              "    <tr style=\"text-align: right;\">\n",
              "      <th></th>\n",
              "      <th>시가</th>\n",
              "      <th>고가</th>\n",
              "      <th>저가</th>\n",
              "      <th>종가</th>\n",
              "    </tr>\n",
              "  </thead>\n",
              "  <tbody>\n",
              "    <tr>\n",
              "      <th>2019-06-05</th>\n",
              "      <td>112000</td>\n",
              "      <td>112500</td>\n",
              "      <td>109500</td>\n",
              "      <td>110500</td>\n",
              "    </tr>\n",
              "    <tr>\n",
              "      <th>2019-06-04</th>\n",
              "      <td>114000</td>\n",
              "      <td>114500</td>\n",
              "      <td>110500</td>\n",
              "      <td>111000</td>\n",
              "    </tr>\n",
              "    <tr>\n",
              "      <th>2019-06-03</th>\n",
              "      <td>113000</td>\n",
              "      <td>115000</td>\n",
              "      <td>112000</td>\n",
              "      <td>115000</td>\n",
              "    </tr>\n",
              "  </tbody>\n",
              "</table>\n",
              "</div>"
            ],
            "text/plain": [
              "                시가      고가      저가      종가\n",
              "2019-06-05  112000  112500  109500  110500\n",
              "2019-06-04  114000  114500  110500  111000\n",
              "2019-06-03  113000  115000  112000  115000"
            ]
          },
          "metadata": {
            "tags": []
          },
          "execution_count": 20
        }
      ]
    },
    {
      "cell_type": "code",
      "metadata": {
        "colab": {
          "base_uri": "https://localhost:8080/",
          "height": 203
        },
        "id": "DUSNLOnvPhLP",
        "outputId": "72f83dc3-b6c2-4c6a-bb2e-c35fb13c9426"
      },
      "source": [
        "import numpy as np\r\n",
        "df = pd.DataFrame(np.random.randn(5, 3), columns=['C1', 'C2', 'C3'])\r\n",
        "df"
      ],
      "execution_count": null,
      "outputs": [
        {
          "output_type": "execute_result",
          "data": {
            "text/html": [
              "<div>\n",
              "<style scoped>\n",
              "    .dataframe tbody tr th:only-of-type {\n",
              "        vertical-align: middle;\n",
              "    }\n",
              "\n",
              "    .dataframe tbody tr th {\n",
              "        vertical-align: top;\n",
              "    }\n",
              "\n",
              "    .dataframe thead th {\n",
              "        text-align: right;\n",
              "    }\n",
              "</style>\n",
              "<table border=\"1\" class=\"dataframe\">\n",
              "  <thead>\n",
              "    <tr style=\"text-align: right;\">\n",
              "      <th></th>\n",
              "      <th>C1</th>\n",
              "      <th>C2</th>\n",
              "      <th>C3</th>\n",
              "    </tr>\n",
              "  </thead>\n",
              "  <tbody>\n",
              "    <tr>\n",
              "      <th>0</th>\n",
              "      <td>0.712543</td>\n",
              "      <td>0.407084</td>\n",
              "      <td>-0.473020</td>\n",
              "    </tr>\n",
              "    <tr>\n",
              "      <th>1</th>\n",
              "      <td>-1.463311</td>\n",
              "      <td>-0.995482</td>\n",
              "      <td>-2.326013</td>\n",
              "    </tr>\n",
              "    <tr>\n",
              "      <th>2</th>\n",
              "      <td>0.000562</td>\n",
              "      <td>-2.405369</td>\n",
              "      <td>-0.000559</td>\n",
              "    </tr>\n",
              "    <tr>\n",
              "      <th>3</th>\n",
              "      <td>0.889794</td>\n",
              "      <td>-0.087976</td>\n",
              "      <td>-0.669509</td>\n",
              "    </tr>\n",
              "    <tr>\n",
              "      <th>4</th>\n",
              "      <td>-0.822871</td>\n",
              "      <td>-0.029506</td>\n",
              "      <td>0.082932</td>\n",
              "    </tr>\n",
              "  </tbody>\n",
              "</table>\n",
              "</div>"
            ],
            "text/plain": [
              "         C1        C2        C3\n",
              "0  0.712543  0.407084 -0.473020\n",
              "1 -1.463311 -0.995482 -2.326013\n",
              "2  0.000562 -2.405369 -0.000559\n",
              "3  0.889794 -0.087976 -0.669509\n",
              "4 -0.822871 -0.029506  0.082932"
            ]
          },
          "metadata": {
            "tags": []
          },
          "execution_count": 21
        }
      ]
    },
    {
      "cell_type": "markdown",
      "metadata": {
        "id": "WMdPVEyICzL1"
      },
      "source": [
        "# 4. Nan(결측값) 대체\r\n",
        "\r\n",
        "https://rfriend.tistory.com/262"
      ]
    },
    {
      "cell_type": "markdown",
      "metadata": {
        "id": "vz_eGMnp0i3U"
      },
      "source": [
        "셀값 변경"
      ]
    },
    {
      "cell_type": "code",
      "metadata": {
        "colab": {
          "base_uri": "https://localhost:8080/",
          "height": 203
        },
        "id": "cpRcJc6OFdVm",
        "outputId": "ffc7e163-025c-4984-f806-91a49958e721"
      },
      "source": [
        "df.loc[[1,2], 'C1'] = np.nan\r\n",
        "df.iloc[2]['C2'] = np.nan\r\n",
        "df.iloc[2]['C3'] = np.nan\r\n",
        "df"
      ],
      "execution_count": null,
      "outputs": [
        {
          "output_type": "execute_result",
          "data": {
            "text/html": [
              "<div>\n",
              "<style scoped>\n",
              "    .dataframe tbody tr th:only-of-type {\n",
              "        vertical-align: middle;\n",
              "    }\n",
              "\n",
              "    .dataframe tbody tr th {\n",
              "        vertical-align: top;\n",
              "    }\n",
              "\n",
              "    .dataframe thead th {\n",
              "        text-align: right;\n",
              "    }\n",
              "</style>\n",
              "<table border=\"1\" class=\"dataframe\">\n",
              "  <thead>\n",
              "    <tr style=\"text-align: right;\">\n",
              "      <th></th>\n",
              "      <th>C1</th>\n",
              "      <th>C2</th>\n",
              "      <th>C3</th>\n",
              "    </tr>\n",
              "  </thead>\n",
              "  <tbody>\n",
              "    <tr>\n",
              "      <th>0</th>\n",
              "      <td>0.712543</td>\n",
              "      <td>0.407084</td>\n",
              "      <td>-0.473020</td>\n",
              "    </tr>\n",
              "    <tr>\n",
              "      <th>1</th>\n",
              "      <td>NaN</td>\n",
              "      <td>-0.995482</td>\n",
              "      <td>-2.326013</td>\n",
              "    </tr>\n",
              "    <tr>\n",
              "      <th>2</th>\n",
              "      <td>NaN</td>\n",
              "      <td>NaN</td>\n",
              "      <td>NaN</td>\n",
              "    </tr>\n",
              "    <tr>\n",
              "      <th>3</th>\n",
              "      <td>0.889794</td>\n",
              "      <td>-0.087976</td>\n",
              "      <td>-0.669509</td>\n",
              "    </tr>\n",
              "    <tr>\n",
              "      <th>4</th>\n",
              "      <td>-0.822871</td>\n",
              "      <td>-0.029506</td>\n",
              "      <td>0.082932</td>\n",
              "    </tr>\n",
              "  </tbody>\n",
              "</table>\n",
              "</div>"
            ],
            "text/plain": [
              "         C1        C2        C3\n",
              "0  0.712543  0.407084 -0.473020\n",
              "1       NaN -0.995482 -2.326013\n",
              "2       NaN       NaN       NaN\n",
              "3  0.889794 -0.087976 -0.669509\n",
              "4 -0.822871 -0.029506  0.082932"
            ]
          },
          "metadata": {
            "tags": []
          },
          "execution_count": 22
        }
      ]
    },
    {
      "cell_type": "markdown",
      "metadata": {
        "id": "9mbvz1wt0oMx"
      },
      "source": [
        "Nan수를 특정한 단일값으로 채우기"
      ]
    },
    {
      "cell_type": "code",
      "metadata": {
        "colab": {
          "base_uri": "https://localhost:8080/",
          "height": 203
        },
        "id": "wAskJYBS0u1f",
        "outputId": "0f703b17-6edf-4866-c71e-9afb9b19b0c8"
      },
      "source": [
        "df_0 = df\r\n",
        "df_0.fillna(0)"
      ],
      "execution_count": null,
      "outputs": [
        {
          "output_type": "execute_result",
          "data": {
            "text/html": [
              "<div>\n",
              "<style scoped>\n",
              "    .dataframe tbody tr th:only-of-type {\n",
              "        vertical-align: middle;\n",
              "    }\n",
              "\n",
              "    .dataframe tbody tr th {\n",
              "        vertical-align: top;\n",
              "    }\n",
              "\n",
              "    .dataframe thead th {\n",
              "        text-align: right;\n",
              "    }\n",
              "</style>\n",
              "<table border=\"1\" class=\"dataframe\">\n",
              "  <thead>\n",
              "    <tr style=\"text-align: right;\">\n",
              "      <th></th>\n",
              "      <th>C1</th>\n",
              "      <th>C2</th>\n",
              "      <th>C3</th>\n",
              "    </tr>\n",
              "  </thead>\n",
              "  <tbody>\n",
              "    <tr>\n",
              "      <th>0</th>\n",
              "      <td>0.712543</td>\n",
              "      <td>0.407084</td>\n",
              "      <td>-0.473020</td>\n",
              "    </tr>\n",
              "    <tr>\n",
              "      <th>1</th>\n",
              "      <td>0.000000</td>\n",
              "      <td>-0.995482</td>\n",
              "      <td>-2.326013</td>\n",
              "    </tr>\n",
              "    <tr>\n",
              "      <th>2</th>\n",
              "      <td>0.000000</td>\n",
              "      <td>0.000000</td>\n",
              "      <td>0.000000</td>\n",
              "    </tr>\n",
              "    <tr>\n",
              "      <th>3</th>\n",
              "      <td>0.889794</td>\n",
              "      <td>-0.087976</td>\n",
              "      <td>-0.669509</td>\n",
              "    </tr>\n",
              "    <tr>\n",
              "      <th>4</th>\n",
              "      <td>-0.822871</td>\n",
              "      <td>-0.029506</td>\n",
              "      <td>0.082932</td>\n",
              "    </tr>\n",
              "  </tbody>\n",
              "</table>\n",
              "</div>"
            ],
            "text/plain": [
              "         C1        C2        C3\n",
              "0  0.712543  0.407084 -0.473020\n",
              "1  0.000000 -0.995482 -2.326013\n",
              "2  0.000000  0.000000  0.000000\n",
              "3  0.889794 -0.087976 -0.669509\n",
              "4 -0.822871 -0.029506  0.082932"
            ]
          },
          "metadata": {
            "tags": []
          },
          "execution_count": 23
        }
      ]
    },
    {
      "cell_type": "markdown",
      "metadata": {
        "id": "NT9EFhwC9KXO"
      },
      "source": [
        "Nan수를 윗행의 값으로 채우기"
      ]
    },
    {
      "cell_type": "code",
      "metadata": {
        "colab": {
          "base_uri": "https://localhost:8080/",
          "height": 203
        },
        "id": "aNt1xAcD9Iok",
        "outputId": "ef16b9a8-1b89-4204-e094-c4ea47e41c17"
      },
      "source": [
        "# 1) \r\n",
        "df_0 = df\r\n",
        "df_0.fillna(method='ffill') "
      ],
      "execution_count": null,
      "outputs": [
        {
          "output_type": "execute_result",
          "data": {
            "text/html": [
              "<div>\n",
              "<style scoped>\n",
              "    .dataframe tbody tr th:only-of-type {\n",
              "        vertical-align: middle;\n",
              "    }\n",
              "\n",
              "    .dataframe tbody tr th {\n",
              "        vertical-align: top;\n",
              "    }\n",
              "\n",
              "    .dataframe thead th {\n",
              "        text-align: right;\n",
              "    }\n",
              "</style>\n",
              "<table border=\"1\" class=\"dataframe\">\n",
              "  <thead>\n",
              "    <tr style=\"text-align: right;\">\n",
              "      <th></th>\n",
              "      <th>C1</th>\n",
              "      <th>C2</th>\n",
              "      <th>C3</th>\n",
              "    </tr>\n",
              "  </thead>\n",
              "  <tbody>\n",
              "    <tr>\n",
              "      <th>0</th>\n",
              "      <td>0.712543</td>\n",
              "      <td>0.407084</td>\n",
              "      <td>-0.473020</td>\n",
              "    </tr>\n",
              "    <tr>\n",
              "      <th>1</th>\n",
              "      <td>0.712543</td>\n",
              "      <td>-0.995482</td>\n",
              "      <td>-2.326013</td>\n",
              "    </tr>\n",
              "    <tr>\n",
              "      <th>2</th>\n",
              "      <td>0.712543</td>\n",
              "      <td>-0.995482</td>\n",
              "      <td>-2.326013</td>\n",
              "    </tr>\n",
              "    <tr>\n",
              "      <th>3</th>\n",
              "      <td>0.889794</td>\n",
              "      <td>-0.087976</td>\n",
              "      <td>-0.669509</td>\n",
              "    </tr>\n",
              "    <tr>\n",
              "      <th>4</th>\n",
              "      <td>-0.822871</td>\n",
              "      <td>-0.029506</td>\n",
              "      <td>0.082932</td>\n",
              "    </tr>\n",
              "  </tbody>\n",
              "</table>\n",
              "</div>"
            ],
            "text/plain": [
              "         C1        C2        C3\n",
              "0  0.712543  0.407084 -0.473020\n",
              "1  0.712543 -0.995482 -2.326013\n",
              "2  0.712543 -0.995482 -2.326013\n",
              "3  0.889794 -0.087976 -0.669509\n",
              "4 -0.822871 -0.029506  0.082932"
            ]
          },
          "metadata": {
            "tags": []
          },
          "execution_count": 24
        }
      ]
    },
    {
      "cell_type": "code",
      "metadata": {
        "colab": {
          "base_uri": "https://localhost:8080/",
          "height": 203
        },
        "id": "5DZiBfk39-Xu",
        "outputId": "ba1f226f-ea33-4ca8-c1c2-5ccbbdb46c02"
      },
      "source": [
        "# 2) \r\n",
        "df_0 = df\r\n",
        "df_0.fillna(method='pad') "
      ],
      "execution_count": null,
      "outputs": [
        {
          "output_type": "execute_result",
          "data": {
            "text/html": [
              "<div>\n",
              "<style scoped>\n",
              "    .dataframe tbody tr th:only-of-type {\n",
              "        vertical-align: middle;\n",
              "    }\n",
              "\n",
              "    .dataframe tbody tr th {\n",
              "        vertical-align: top;\n",
              "    }\n",
              "\n",
              "    .dataframe thead th {\n",
              "        text-align: right;\n",
              "    }\n",
              "</style>\n",
              "<table border=\"1\" class=\"dataframe\">\n",
              "  <thead>\n",
              "    <tr style=\"text-align: right;\">\n",
              "      <th></th>\n",
              "      <th>C1</th>\n",
              "      <th>C2</th>\n",
              "      <th>C3</th>\n",
              "    </tr>\n",
              "  </thead>\n",
              "  <tbody>\n",
              "    <tr>\n",
              "      <th>0</th>\n",
              "      <td>0.712543</td>\n",
              "      <td>0.407084</td>\n",
              "      <td>-0.473020</td>\n",
              "    </tr>\n",
              "    <tr>\n",
              "      <th>1</th>\n",
              "      <td>0.712543</td>\n",
              "      <td>-0.995482</td>\n",
              "      <td>-2.326013</td>\n",
              "    </tr>\n",
              "    <tr>\n",
              "      <th>2</th>\n",
              "      <td>0.712543</td>\n",
              "      <td>-0.995482</td>\n",
              "      <td>-2.326013</td>\n",
              "    </tr>\n",
              "    <tr>\n",
              "      <th>3</th>\n",
              "      <td>0.889794</td>\n",
              "      <td>-0.087976</td>\n",
              "      <td>-0.669509</td>\n",
              "    </tr>\n",
              "    <tr>\n",
              "      <th>4</th>\n",
              "      <td>-0.822871</td>\n",
              "      <td>-0.029506</td>\n",
              "      <td>0.082932</td>\n",
              "    </tr>\n",
              "  </tbody>\n",
              "</table>\n",
              "</div>"
            ],
            "text/plain": [
              "         C1        C2        C3\n",
              "0  0.712543  0.407084 -0.473020\n",
              "1  0.712543 -0.995482 -2.326013\n",
              "2  0.712543 -0.995482 -2.326013\n",
              "3  0.889794 -0.087976 -0.669509\n",
              "4 -0.822871 -0.029506  0.082932"
            ]
          },
          "metadata": {
            "tags": []
          },
          "execution_count": 25
        }
      ]
    },
    {
      "cell_type": "markdown",
      "metadata": {
        "id": "Zt6po8xg91Rv"
      },
      "source": [
        "Nan수를 아래행의 값으로 채우기"
      ]
    },
    {
      "cell_type": "code",
      "metadata": {
        "colab": {
          "base_uri": "https://localhost:8080/",
          "height": 203
        },
        "id": "Y0Mhmaw693KM",
        "outputId": "caac1e87-f6aa-435f-c98f-e56ef8b4757d"
      },
      "source": [
        "# 1)\r\n",
        "df_0 = df\r\n",
        "df_0.fillna(method='bfill') "
      ],
      "execution_count": null,
      "outputs": [
        {
          "output_type": "execute_result",
          "data": {
            "text/html": [
              "<div>\n",
              "<style scoped>\n",
              "    .dataframe tbody tr th:only-of-type {\n",
              "        vertical-align: middle;\n",
              "    }\n",
              "\n",
              "    .dataframe tbody tr th {\n",
              "        vertical-align: top;\n",
              "    }\n",
              "\n",
              "    .dataframe thead th {\n",
              "        text-align: right;\n",
              "    }\n",
              "</style>\n",
              "<table border=\"1\" class=\"dataframe\">\n",
              "  <thead>\n",
              "    <tr style=\"text-align: right;\">\n",
              "      <th></th>\n",
              "      <th>C1</th>\n",
              "      <th>C2</th>\n",
              "      <th>C3</th>\n",
              "    </tr>\n",
              "  </thead>\n",
              "  <tbody>\n",
              "    <tr>\n",
              "      <th>0</th>\n",
              "      <td>0.712543</td>\n",
              "      <td>0.407084</td>\n",
              "      <td>-0.473020</td>\n",
              "    </tr>\n",
              "    <tr>\n",
              "      <th>1</th>\n",
              "      <td>0.889794</td>\n",
              "      <td>-0.995482</td>\n",
              "      <td>-2.326013</td>\n",
              "    </tr>\n",
              "    <tr>\n",
              "      <th>2</th>\n",
              "      <td>0.889794</td>\n",
              "      <td>-0.087976</td>\n",
              "      <td>-0.669509</td>\n",
              "    </tr>\n",
              "    <tr>\n",
              "      <th>3</th>\n",
              "      <td>0.889794</td>\n",
              "      <td>-0.087976</td>\n",
              "      <td>-0.669509</td>\n",
              "    </tr>\n",
              "    <tr>\n",
              "      <th>4</th>\n",
              "      <td>-0.822871</td>\n",
              "      <td>-0.029506</td>\n",
              "      <td>0.082932</td>\n",
              "    </tr>\n",
              "  </tbody>\n",
              "</table>\n",
              "</div>"
            ],
            "text/plain": [
              "         C1        C2        C3\n",
              "0  0.712543  0.407084 -0.473020\n",
              "1  0.889794 -0.995482 -2.326013\n",
              "2  0.889794 -0.087976 -0.669509\n",
              "3  0.889794 -0.087976 -0.669509\n",
              "4 -0.822871 -0.029506  0.082932"
            ]
          },
          "metadata": {
            "tags": []
          },
          "execution_count": 26
        }
      ]
    },
    {
      "cell_type": "code",
      "metadata": {
        "colab": {
          "base_uri": "https://localhost:8080/",
          "height": 203
        },
        "id": "dUiUoMaA-QN6",
        "outputId": "7faef334-766c-4a92-9f93-0eeeced35ad9"
      },
      "source": [
        "# 2)\r\n",
        "df_0 = df\r\n",
        "df_0.fillna(method='backfill') "
      ],
      "execution_count": null,
      "outputs": [
        {
          "output_type": "execute_result",
          "data": {
            "text/html": [
              "<div>\n",
              "<style scoped>\n",
              "    .dataframe tbody tr th:only-of-type {\n",
              "        vertical-align: middle;\n",
              "    }\n",
              "\n",
              "    .dataframe tbody tr th {\n",
              "        vertical-align: top;\n",
              "    }\n",
              "\n",
              "    .dataframe thead th {\n",
              "        text-align: right;\n",
              "    }\n",
              "</style>\n",
              "<table border=\"1\" class=\"dataframe\">\n",
              "  <thead>\n",
              "    <tr style=\"text-align: right;\">\n",
              "      <th></th>\n",
              "      <th>C1</th>\n",
              "      <th>C2</th>\n",
              "      <th>C3</th>\n",
              "    </tr>\n",
              "  </thead>\n",
              "  <tbody>\n",
              "    <tr>\n",
              "      <th>0</th>\n",
              "      <td>0.712543</td>\n",
              "      <td>0.407084</td>\n",
              "      <td>-0.473020</td>\n",
              "    </tr>\n",
              "    <tr>\n",
              "      <th>1</th>\n",
              "      <td>0.889794</td>\n",
              "      <td>-0.995482</td>\n",
              "      <td>-2.326013</td>\n",
              "    </tr>\n",
              "    <tr>\n",
              "      <th>2</th>\n",
              "      <td>0.889794</td>\n",
              "      <td>-0.087976</td>\n",
              "      <td>-0.669509</td>\n",
              "    </tr>\n",
              "    <tr>\n",
              "      <th>3</th>\n",
              "      <td>0.889794</td>\n",
              "      <td>-0.087976</td>\n",
              "      <td>-0.669509</td>\n",
              "    </tr>\n",
              "    <tr>\n",
              "      <th>4</th>\n",
              "      <td>-0.822871</td>\n",
              "      <td>-0.029506</td>\n",
              "      <td>0.082932</td>\n",
              "    </tr>\n",
              "  </tbody>\n",
              "</table>\n",
              "</div>"
            ],
            "text/plain": [
              "         C1        C2        C3\n",
              "0  0.712543  0.407084 -0.473020\n",
              "1  0.889794 -0.995482 -2.326013\n",
              "2  0.889794 -0.087976 -0.669509\n",
              "3  0.889794 -0.087976 -0.669509\n",
              "4 -0.822871 -0.029506  0.082932"
            ]
          },
          "metadata": {
            "tags": []
          },
          "execution_count": 27
        }
      ]
    },
    {
      "cell_type": "markdown",
      "metadata": {
        "id": "7lPsKEuR-fnd"
      },
      "source": [
        "결측값 채우기 개수 제한"
      ]
    },
    {
      "cell_type": "code",
      "metadata": {
        "colab": {
          "base_uri": "https://localhost:8080/",
          "height": 203
        },
        "id": "3dFeWOQO-jWw",
        "outputId": "151015ff-b194-4f56-cec5-c58ba967d19e"
      },
      "source": [
        "# 위에서 한개만 변경\r\n",
        "df_0 = df\r\n",
        "df_0.fillna(method='ffill', limit=1)"
      ],
      "execution_count": null,
      "outputs": [
        {
          "output_type": "execute_result",
          "data": {
            "text/html": [
              "<div>\n",
              "<style scoped>\n",
              "    .dataframe tbody tr th:only-of-type {\n",
              "        vertical-align: middle;\n",
              "    }\n",
              "\n",
              "    .dataframe tbody tr th {\n",
              "        vertical-align: top;\n",
              "    }\n",
              "\n",
              "    .dataframe thead th {\n",
              "        text-align: right;\n",
              "    }\n",
              "</style>\n",
              "<table border=\"1\" class=\"dataframe\">\n",
              "  <thead>\n",
              "    <tr style=\"text-align: right;\">\n",
              "      <th></th>\n",
              "      <th>C1</th>\n",
              "      <th>C2</th>\n",
              "      <th>C3</th>\n",
              "    </tr>\n",
              "  </thead>\n",
              "  <tbody>\n",
              "    <tr>\n",
              "      <th>0</th>\n",
              "      <td>0.712543</td>\n",
              "      <td>0.407084</td>\n",
              "      <td>-0.473020</td>\n",
              "    </tr>\n",
              "    <tr>\n",
              "      <th>1</th>\n",
              "      <td>0.712543</td>\n",
              "      <td>-0.995482</td>\n",
              "      <td>-2.326013</td>\n",
              "    </tr>\n",
              "    <tr>\n",
              "      <th>2</th>\n",
              "      <td>NaN</td>\n",
              "      <td>-0.995482</td>\n",
              "      <td>-2.326013</td>\n",
              "    </tr>\n",
              "    <tr>\n",
              "      <th>3</th>\n",
              "      <td>0.889794</td>\n",
              "      <td>-0.087976</td>\n",
              "      <td>-0.669509</td>\n",
              "    </tr>\n",
              "    <tr>\n",
              "      <th>4</th>\n",
              "      <td>-0.822871</td>\n",
              "      <td>-0.029506</td>\n",
              "      <td>0.082932</td>\n",
              "    </tr>\n",
              "  </tbody>\n",
              "</table>\n",
              "</div>"
            ],
            "text/plain": [
              "         C1        C2        C3\n",
              "0  0.712543  0.407084 -0.473020\n",
              "1  0.712543 -0.995482 -2.326013\n",
              "2       NaN -0.995482 -2.326013\n",
              "3  0.889794 -0.087976 -0.669509\n",
              "4 -0.822871 -0.029506  0.082932"
            ]
          },
          "metadata": {
            "tags": []
          },
          "execution_count": 28
        }
      ]
    },
    {
      "cell_type": "code",
      "metadata": {
        "colab": {
          "base_uri": "https://localhost:8080/",
          "height": 203
        },
        "id": "RS8fTrCYA_MW",
        "outputId": "729bda5d-01de-429b-803d-da58e0e1a996"
      },
      "source": [
        "# 아래서 한개만 변경\r\n",
        "df_0 = df\r\n",
        "df_0.fillna(method='bfill', limit=1)"
      ],
      "execution_count": null,
      "outputs": [
        {
          "output_type": "execute_result",
          "data": {
            "text/html": [
              "<div>\n",
              "<style scoped>\n",
              "    .dataframe tbody tr th:only-of-type {\n",
              "        vertical-align: middle;\n",
              "    }\n",
              "\n",
              "    .dataframe tbody tr th {\n",
              "        vertical-align: top;\n",
              "    }\n",
              "\n",
              "    .dataframe thead th {\n",
              "        text-align: right;\n",
              "    }\n",
              "</style>\n",
              "<table border=\"1\" class=\"dataframe\">\n",
              "  <thead>\n",
              "    <tr style=\"text-align: right;\">\n",
              "      <th></th>\n",
              "      <th>C1</th>\n",
              "      <th>C2</th>\n",
              "      <th>C3</th>\n",
              "    </tr>\n",
              "  </thead>\n",
              "  <tbody>\n",
              "    <tr>\n",
              "      <th>0</th>\n",
              "      <td>0.712543</td>\n",
              "      <td>0.407084</td>\n",
              "      <td>-0.473020</td>\n",
              "    </tr>\n",
              "    <tr>\n",
              "      <th>1</th>\n",
              "      <td>NaN</td>\n",
              "      <td>-0.995482</td>\n",
              "      <td>-2.326013</td>\n",
              "    </tr>\n",
              "    <tr>\n",
              "      <th>2</th>\n",
              "      <td>0.889794</td>\n",
              "      <td>-0.087976</td>\n",
              "      <td>-0.669509</td>\n",
              "    </tr>\n",
              "    <tr>\n",
              "      <th>3</th>\n",
              "      <td>0.889794</td>\n",
              "      <td>-0.087976</td>\n",
              "      <td>-0.669509</td>\n",
              "    </tr>\n",
              "    <tr>\n",
              "      <th>4</th>\n",
              "      <td>-0.822871</td>\n",
              "      <td>-0.029506</td>\n",
              "      <td>0.082932</td>\n",
              "    </tr>\n",
              "  </tbody>\n",
              "</table>\n",
              "</div>"
            ],
            "text/plain": [
              "         C1        C2        C3\n",
              "0  0.712543  0.407084 -0.473020\n",
              "1       NaN -0.995482 -2.326013\n",
              "2  0.889794 -0.087976 -0.669509\n",
              "3  0.889794 -0.087976 -0.669509\n",
              "4 -0.822871 -0.029506  0.082932"
            ]
          },
          "metadata": {
            "tags": []
          },
          "execution_count": 29
        }
      ]
    },
    {
      "cell_type": "markdown",
      "metadata": {
        "id": "b-boxAGoBKVU"
      },
      "source": [
        "결측값을 평균으로 대체"
      ]
    },
    {
      "cell_type": "code",
      "metadata": {
        "colab": {
          "base_uri": "https://localhost:8080/"
        },
        "id": "ySkohUM7BHZj",
        "outputId": "62ee50f9-b568-4998-9aa2-ac6d8d7cd7ed"
      },
      "source": [
        "df_0 = df\r\n",
        "df_0.mean()"
      ],
      "execution_count": null,
      "outputs": [
        {
          "output_type": "execute_result",
          "data": {
            "text/plain": [
              "C1    0.259822\n",
              "C2   -0.176470\n",
              "C3   -0.846402\n",
              "dtype: float64"
            ]
          },
          "metadata": {
            "tags": []
          },
          "execution_count": 30
        }
      ]
    },
    {
      "cell_type": "code",
      "metadata": {
        "colab": {
          "base_uri": "https://localhost:8080/",
          "height": 203
        },
        "id": "Iisg0jCjBjWN",
        "outputId": "60746a23-29d8-4e1c-e860-6147310c6ce4"
      },
      "source": [
        "# 각 colums별 평균값을 각 column의 Nan에 대입\r\n",
        "df_0 = df\r\n",
        "df_0.fillna(df.mean())"
      ],
      "execution_count": null,
      "outputs": [
        {
          "output_type": "execute_result",
          "data": {
            "text/html": [
              "<div>\n",
              "<style scoped>\n",
              "    .dataframe tbody tr th:only-of-type {\n",
              "        vertical-align: middle;\n",
              "    }\n",
              "\n",
              "    .dataframe tbody tr th {\n",
              "        vertical-align: top;\n",
              "    }\n",
              "\n",
              "    .dataframe thead th {\n",
              "        text-align: right;\n",
              "    }\n",
              "</style>\n",
              "<table border=\"1\" class=\"dataframe\">\n",
              "  <thead>\n",
              "    <tr style=\"text-align: right;\">\n",
              "      <th></th>\n",
              "      <th>C1</th>\n",
              "      <th>C2</th>\n",
              "      <th>C3</th>\n",
              "    </tr>\n",
              "  </thead>\n",
              "  <tbody>\n",
              "    <tr>\n",
              "      <th>0</th>\n",
              "      <td>0.712543</td>\n",
              "      <td>0.407084</td>\n",
              "      <td>-0.473020</td>\n",
              "    </tr>\n",
              "    <tr>\n",
              "      <th>1</th>\n",
              "      <td>0.259822</td>\n",
              "      <td>-0.995482</td>\n",
              "      <td>-2.326013</td>\n",
              "    </tr>\n",
              "    <tr>\n",
              "      <th>2</th>\n",
              "      <td>0.259822</td>\n",
              "      <td>-0.176470</td>\n",
              "      <td>-0.846402</td>\n",
              "    </tr>\n",
              "    <tr>\n",
              "      <th>3</th>\n",
              "      <td>0.889794</td>\n",
              "      <td>-0.087976</td>\n",
              "      <td>-0.669509</td>\n",
              "    </tr>\n",
              "    <tr>\n",
              "      <th>4</th>\n",
              "      <td>-0.822871</td>\n",
              "      <td>-0.029506</td>\n",
              "      <td>0.082932</td>\n",
              "    </tr>\n",
              "  </tbody>\n",
              "</table>\n",
              "</div>"
            ],
            "text/plain": [
              "         C1        C2        C3\n",
              "0  0.712543  0.407084 -0.473020\n",
              "1  0.259822 -0.995482 -2.326013\n",
              "2  0.259822 -0.176470 -0.846402\n",
              "3  0.889794 -0.087976 -0.669509\n",
              "4 -0.822871 -0.029506  0.082932"
            ]
          },
          "metadata": {
            "tags": []
          },
          "execution_count": 31
        }
      ]
    },
    {
      "cell_type": "code",
      "metadata": {
        "colab": {
          "base_uri": "https://localhost:8080/",
          "height": 203
        },
        "id": "FHwe_8v2CLEP",
        "outputId": "2faee79d-d7cc-4da0-84b8-972c365e4e72"
      },
      "source": [
        "# 모든 column의 nan에 특정한 평균값 대입\r\n",
        "# 아래 예는 모든 nan값 위치에 ['C1']의 평균값 대입 \r\n",
        "df_0 = df\r\n",
        "df_0.fillna(df.mean()['C1'])"
      ],
      "execution_count": null,
      "outputs": [
        {
          "output_type": "execute_result",
          "data": {
            "text/html": [
              "<div>\n",
              "<style scoped>\n",
              "    .dataframe tbody tr th:only-of-type {\n",
              "        vertical-align: middle;\n",
              "    }\n",
              "\n",
              "    .dataframe tbody tr th {\n",
              "        vertical-align: top;\n",
              "    }\n",
              "\n",
              "    .dataframe thead th {\n",
              "        text-align: right;\n",
              "    }\n",
              "</style>\n",
              "<table border=\"1\" class=\"dataframe\">\n",
              "  <thead>\n",
              "    <tr style=\"text-align: right;\">\n",
              "      <th></th>\n",
              "      <th>C1</th>\n",
              "      <th>C2</th>\n",
              "      <th>C3</th>\n",
              "    </tr>\n",
              "  </thead>\n",
              "  <tbody>\n",
              "    <tr>\n",
              "      <th>0</th>\n",
              "      <td>0.712543</td>\n",
              "      <td>0.407084</td>\n",
              "      <td>-0.473020</td>\n",
              "    </tr>\n",
              "    <tr>\n",
              "      <th>1</th>\n",
              "      <td>0.259822</td>\n",
              "      <td>-0.995482</td>\n",
              "      <td>-2.326013</td>\n",
              "    </tr>\n",
              "    <tr>\n",
              "      <th>2</th>\n",
              "      <td>0.259822</td>\n",
              "      <td>0.259822</td>\n",
              "      <td>0.259822</td>\n",
              "    </tr>\n",
              "    <tr>\n",
              "      <th>3</th>\n",
              "      <td>0.889794</td>\n",
              "      <td>-0.087976</td>\n",
              "      <td>-0.669509</td>\n",
              "    </tr>\n",
              "    <tr>\n",
              "      <th>4</th>\n",
              "      <td>-0.822871</td>\n",
              "      <td>-0.029506</td>\n",
              "      <td>0.082932</td>\n",
              "    </tr>\n",
              "  </tbody>\n",
              "</table>\n",
              "</div>"
            ],
            "text/plain": [
              "         C1        C2        C3\n",
              "0  0.712543  0.407084 -0.473020\n",
              "1  0.259822 -0.995482 -2.326013\n",
              "2  0.259822  0.259822  0.259822\n",
              "3  0.889794 -0.087976 -0.669509\n",
              "4 -0.822871 -0.029506  0.082932"
            ]
          },
          "metadata": {
            "tags": []
          },
          "execution_count": 32
        }
      ]
    },
    {
      "cell_type": "code",
      "metadata": {
        "colab": {
          "base_uri": "https://localhost:8080/",
          "height": 203
        },
        "id": "KhJnihaPClP9",
        "outputId": "1f6491c4-31d4-40aa-817c-b8861a5fe970"
      },
      "source": [
        "# 일부 column에 대해서만 각 column의 평균값대입\r\n",
        "df_0 = df\r\n",
        "df_0.fillna(df.mean()['C1':'C2'])"
      ],
      "execution_count": null,
      "outputs": [
        {
          "output_type": "execute_result",
          "data": {
            "text/html": [
              "<div>\n",
              "<style scoped>\n",
              "    .dataframe tbody tr th:only-of-type {\n",
              "        vertical-align: middle;\n",
              "    }\n",
              "\n",
              "    .dataframe tbody tr th {\n",
              "        vertical-align: top;\n",
              "    }\n",
              "\n",
              "    .dataframe thead th {\n",
              "        text-align: right;\n",
              "    }\n",
              "</style>\n",
              "<table border=\"1\" class=\"dataframe\">\n",
              "  <thead>\n",
              "    <tr style=\"text-align: right;\">\n",
              "      <th></th>\n",
              "      <th>C1</th>\n",
              "      <th>C2</th>\n",
              "      <th>C3</th>\n",
              "    </tr>\n",
              "  </thead>\n",
              "  <tbody>\n",
              "    <tr>\n",
              "      <th>0</th>\n",
              "      <td>0.712543</td>\n",
              "      <td>0.407084</td>\n",
              "      <td>-0.473020</td>\n",
              "    </tr>\n",
              "    <tr>\n",
              "      <th>1</th>\n",
              "      <td>0.259822</td>\n",
              "      <td>-0.995482</td>\n",
              "      <td>-2.326013</td>\n",
              "    </tr>\n",
              "    <tr>\n",
              "      <th>2</th>\n",
              "      <td>0.259822</td>\n",
              "      <td>-0.176470</td>\n",
              "      <td>NaN</td>\n",
              "    </tr>\n",
              "    <tr>\n",
              "      <th>3</th>\n",
              "      <td>0.889794</td>\n",
              "      <td>-0.087976</td>\n",
              "      <td>-0.669509</td>\n",
              "    </tr>\n",
              "    <tr>\n",
              "      <th>4</th>\n",
              "      <td>-0.822871</td>\n",
              "      <td>-0.029506</td>\n",
              "      <td>0.082932</td>\n",
              "    </tr>\n",
              "  </tbody>\n",
              "</table>\n",
              "</div>"
            ],
            "text/plain": [
              "         C1        C2        C3\n",
              "0  0.712543  0.407084 -0.473020\n",
              "1  0.259822 -0.995482 -2.326013\n",
              "2  0.259822 -0.176470       NaN\n",
              "3  0.889794 -0.087976 -0.669509\n",
              "4 -0.822871 -0.029506  0.082932"
            ]
          },
          "metadata": {
            "tags": []
          },
          "execution_count": 33
        }
      ]
    },
    {
      "cell_type": "code",
      "metadata": {
        "id": "2qWbM0hI0Ufs"
      },
      "source": [
        ""
      ],
      "execution_count": null,
      "outputs": []
    }
  ]
}